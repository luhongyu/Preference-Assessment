{
 "cells": [
  {
   "cell_type": "code",
   "execution_count": 1,
   "metadata": {},
   "outputs": [],
   "source": [
    "import random\n",
    "from collections import Counter, defaultdict\n",
    "from pymongo import MongoClient\n",
    "import pickle\n",
    "import os\n",
    "import json\n",
    "from tqdm import tqdm_notebook, tqdm\n",
    "import pandas as pd\n",
    "import numpy as np\n",
    "import datetime\n",
    "import seaborn as sns\n",
    "from utils import *\n",
    "from sklearn.metrics.pairwise import cosine_similarity\n",
    "import jieba\n",
    "import re\n",
    "import matplotlib.pyplot as plt\n",
    "from datetime import timedelta\n",
    "\n",
    "red = sns.color_palette(\"Reds\")[-2]\n",
    "blue = sns.color_palette(\"Blues\")[-2]\n",
    "\n",
    "from sklearn.metrics import *\n",
    "from rank_metrics import *"
   ]
  },
  {
   "cell_type": "code",
   "execution_count": 2,
   "metadata": {},
   "outputs": [],
   "source": [
    "\"\"\" Two Functions for rating prediction and rank problem \"\"\"\n",
    "def evaluate_rating(preds, truths, metrics=['rmse', 'mae'], truct=[1, 5], around=True, **argv):\n",
    "    \"\"\"\n",
    "        preds: [1.2,2.1,3.3,0,1,2]\n",
    "        truths: [1,2,3,1,5,3]\n",
    "        => remove missing values (rating predition is always condensed)\n",
    "        => truct(preds) & around(preds)\n",
    "        => rmse, mae\n",
    "    \"\"\"\n",
    "    pts = [(p, t) for p, t in zip(preds, truths) if pd.isnull(p) == False and pd.isnull(t) == False]\n",
    "    preds, truths = [p for p, t in pts], [t for p, t in pts]\n",
    "    \n",
    "    if truct is not None:\n",
    "        vmin, vmax = truct[:2]\n",
    "        preds = [vmax if v > vmax else vmin if v < vmin else v for v in preds]\n",
    "    if around:\n",
    "        preds = [np.around(v) for v in preds]\n",
    "    \n",
    "    if len(preds) == 0:\n",
    "        return {\"rmse\": np.nan, \"mae\": np.nan}\n",
    "    \n",
    "    ans = {}\n",
    "    for metric in metrics:\n",
    "        if metric == \"rmse\":\n",
    "            ans[metric] = np.sqrt(mean_squared_error(truths, preds))\n",
    "        elif metric == \"mae\":\n",
    "            ans[metric] = mean_absolute_error(truths, preds)\n",
    "    return ans\n",
    "\n",
    "def evaluate_rank(preds, truths, \n",
    "                   metrics=['ndcg', 'hit', 'hr', 'precision', 'recall', 'avg_gt'],\n",
    "                   topk=[5, 10],\n",
    "                   bfun=lambda t: 1.0 if t > 3 else 0.0,\n",
    "                   metric_mode=\"full\", **argv):\n",
    "    \"\"\"\n",
    "        preds: [ 1.0, 1.2, 2.1, -1.0 ]\n",
    "        truths: [ 1, 2, 1, 0]\n",
    "        => remove missing value in preds (TODO: one option)\n",
    "        => condensed (remove missing in truth) / full (treat the missing value as 0.0)\n",
    "        => sorted by preds, generate list of truth-value \n",
    "        => (for hit, hr, precision, recall) bfun(truth)\n",
    "        => ndcg@k, hit@k, ....\n",
    "    \"\"\"\n",
    "    # filter when pred is nan.\n",
    "    pts = [(p, t) for p, t in zip(preds, truths) if pd.isnull(p) == False]\n",
    "    if metric_mode == \"condensed\":\n",
    "        pts = [(p, t) for p, t in pts if pd.isnull(t) == False]\n",
    "    elif metric_mode == \"full\":\n",
    "        pts = [(p, t if not pd.isnull(t) else 0.0) for p, t in pts]\n",
    "        \n",
    "    pts = sorted(pts, key=lambda t: t[0], reverse=True)\n",
    "    r = np.array([t for p, t in pts])\n",
    "    bin_r = np.array([bfun(t) for p, t in pts])\n",
    "    \n",
    "    ans = {}\n",
    "    for metric in metrics:\n",
    "        for k in topk:\n",
    "            m = '{}@{}'.format(metric, k)\n",
    "            if metric == 'ndcg':\n",
    "                # print (r, k)\n",
    "                ans[m] = ndcg_at_k(r, k, method=1) if k != 'all' else ndcg_at_k(r, len(r), method=1)\n",
    "            elif metric == \"hit\":\n",
    "                ans[m] = float(sum(bin_r[:k]) > 0) if k != 'all' else float(sum(bin_r) > 0)\n",
    "            elif metric == \"hr\" or metric == \"precision\": # hr=precision\n",
    "                ans[m] = np.mean(bin_r[:k]) if k != 'all' else np.mean(bin_r)\n",
    "            elif metric == \"recall\":\n",
    "                ans[m] = float(np.sum(bin_r[:k]) / sum(bin_r)) if k != 'all' else 1.0\n",
    "            elif metric == \"avg_gt\":\n",
    "                ans[m] = np.mean(r[:k]) if k != \"all\" else np.mean(r)\n",
    "    return ans\n",
    "\n",
    "\n",
    "def evaluate_user(upreds, utruths, config, robust=False):\n",
    "    \"\"\"\n",
    "        # upreds: {item: score} e.g. the model rank... \n",
    "        # utruths: {item: truth} e.g. user groundtruth... \n",
    "        upreds: [s1, s2, ...]\n",
    "        utruths: [t1, t2, ...]\n",
    "        => candidate=all: all the items predicted can be used to evaluate\n",
    "        => candidate=test: only the items in ground-truth\n",
    "        => candidate=sample: test + random.sampled negative results\n",
    "        => evaluate_rating / evaluate_rank\n",
    "        \n",
    "        config:\n",
    "            - candidate: [all, test, sample]\n",
    "            - task: [rating, rank]\n",
    "            - sample_total: (for candidate=sample)\n",
    "            - metrics\n",
    "            - topk\n",
    "            - bfun\n",
    "            - method: [full, condensed]\n",
    "            - truct: (for rating) [vmin, vmax]\n",
    "            - aound: (for rating) False/True\n",
    "    \"\"\"\n",
    "    # -> upreds: dict (item, score), utest: dict (item, rating)\n",
    "    preds, truths = [], []\n",
    "    if config['candidate'] == \"all\":\n",
    "        preds = upreds\n",
    "        truths = utruths\n",
    "    elif config['candidate'] == \"test\":\n",
    "        for p, t in zip(upreds, utruths):\n",
    "            if not pd.isnull(t):\n",
    "                preds.append(p)\n",
    "                truths.append(t)\n",
    "    elif config['candidate'] == \"sample\":\n",
    "        cands_idxs = []\n",
    "        for i, (p, t) in enumerate(zip(upreds, utruths)):\n",
    "            if not pd.isnull(t):\n",
    "                preds.append(p)\n",
    "                truths.append(t)\n",
    "            else:\n",
    "                cands_idxs.append(i)\n",
    "        \n",
    "        for idx in random.sample(cands_idxs, config['sample_total'] - len(truths)):\n",
    "            preds.append( upreds[idx] )\n",
    "            truths.append( utruths[idx] )\n",
    "\n",
    "    if robust:\n",
    "        print (preds, truths)\n",
    "    assert len(preds) == len(truths) and len(truths) > 0\n",
    "    if config['task'] == \"rating\":\n",
    "        ans = evaluate_rating(preds, truths, **config)\n",
    "    elif config['task'] == \"rank\":\n",
    "        ans = evaluate_rank(preds, truths, **config)\n",
    "    return ans"
   ]
  },
  {
   "cell_type": "markdown",
   "metadata": {},
   "source": [
    "# Specific for user study data"
   ]
  },
  {
   "cell_type": "code",
   "execution_count": 3,
   "metadata": {},
   "outputs": [],
   "source": [
    "%run \"[Class] System Predictions (based on mongodb).ipynb\" # SysPrediction\n",
    "%run \"[Class] User Peer Feedback (based on gen-0).ipynb\" # UserFeedback, PeerAssessment\n",
    "\n",
    "class UserStudyEvaluator:\n",
    "    def __init__(self):\n",
    "        self.user_hist_df = {}\n",
    "        self.df_user = pd.DataFrame\n",
    "        self.sys_predictions = SysPrediction\n",
    "        \n",
    "        self._prepare_data()\n",
    "    \n",
    "    def _prepare_data(self):\n",
    "        # build user/hist/test\n",
    "        self.user_hist_df = {}\n",
    "        for tp in os.listdir(\"../../platform/RecServer/src/data/mix-data/\"):\n",
    "            if os.path.isdir(tp):\n",
    "                self.user_hist_df[tp] = self._get_user_hist_test(tp)\n",
    "        \n",
    "        \n",
    "        # build df_user: for _get_user_self_test\n",
    "        self.df_user = pd.read_pickle(\"../data/user-study/fixbug/df_user.pkl\")\n",
    "        \n",
    "        # add algorithms # BUG: phase2_recommend_top10 vs. phase2_recommend_top3\n",
    "        client = MongoClient('mongodb://127.0.0.1:27017', username='', password=\"\")\n",
    "        ui_algos = {}\n",
    "        for urec in client.Assess.user_phase2_recommend_top10.find():\n",
    "            for trec in urec['rec_list']:\n",
    "                ui_algos[(urec['user_id'], trec['item'])] = dict(trec['algorithms'])\n",
    "        self.df_user['algorithms'] = list(map(lambda t: ui_algos[(t[0], t[1])] if (t[0], t[1]) in ui_algos else {},\n",
    "                                              zip(self.df_user['user_id'], self.df_user['movie_id'])))\n",
    "        \n",
    "        \n",
    "        # build peer: for _get_user_peer_test()\n",
    "        peer_res = pd.read_pickle(\"../data/user-study/fixbug/df_peer.pkl\")\n",
    "        recs = []\n",
    "        for (user_id, movie_id), tdf in peer_res.groupby(by=['user_id', 'movie_id']):\n",
    "            recs.append((user_id, movie_id, np.nanmean(tdf['peer_preference'])))\n",
    "        self.df_peer = pd.DataFrame.from_records(recs, columns=['user_id', 'movie_id', 'avg_peer_preference'])\n",
    "        \n",
    "        \n",
    "        # build sys_predictions: for evaluate_for_user\n",
    "        self.sys_predictions = SysPrediction(db=\"system_predictions_all\")\n",
    "    \n",
    "    def _get_user_hist_test(self, user_id):\n",
    "        if user_id in self.user_hist_df:\n",
    "            return self.user_hist_df[user_id]\n",
    "        \n",
    "        tdf = pd.read_csv(\"../../platform/RecServer/src/data/mix-data/{}/test.csv\".format(user_id), sep=\"\\t\")\n",
    "        u_hist = tdf[tdf['user'] == user_id].copy()\n",
    "        u_hist.reset_index(drop=True, inplace=True)\n",
    "        u_hist.columns = ['user', 'item', 'rating']\n",
    "        return u_hist\n",
    "    \n",
    "    def _get_user_self_test(self, user_id, model=\"all\", gt_column=\"post_expected_preference\"):\n",
    "        \"\"\" \n",
    "            <user_id, model> -> [user, item, rating]\n",
    "            model:\n",
    "                - all\n",
    "                - random/ pop/ userknn/ itemknn/ tfbiasedmf/ tfbpr\n",
    "        \"\"\"\n",
    "        if model == \"all\":\n",
    "            udf = self.df_user[self.df_user['user_id'] == user_id][['user_id', 'movie_id', gt_column]].copy()\n",
    "        elif model[0] == \"-\":\n",
    "            midx = self.df_user['algorithms'].map(lambda t: model[1:] not in t)\n",
    "            udf = self.df_user[(self.df_user['user_id'] == user_id) & midx][['user_id', 'movie_id', gt_column]].copy()\n",
    "        else:\n",
    "            midx = self.df_user['algorithms'].map(lambda t: model in t)\n",
    "            udf = self.df_user[(self.df_user['user_id'] == user_id) & midx][['user_id', 'movie_id', gt_column]].copy()\n",
    "        udf.columns = ['user', 'item', 'rating']\n",
    "        return udf\n",
    "    \n",
    "    def _get_user_peer_test(self, user_id, model=\"all\", gt_column=\"avg_peer_preference\"):\n",
    "        \"\"\" \n",
    "            <user_id, model> -> [user, item, rating]\n",
    "            model:\n",
    "                - all\n",
    "                - random/ pop/ userknn/ itemknn/ tfbiasedmf/ tfbpr\n",
    "        \"\"\"\n",
    "        if model == \"all\":\n",
    "            urecs = []\n",
    "            for (u, i), tdf in self.df_peer[self.df_peer['user_id'] == user_id].groupby(['user_id', 'movie_id']):\n",
    "                urecs.append((u, i, np.around(np.mean([float(t) for t in tdf[gt_column]]))))\n",
    "            udf = pd.DataFrame.from_records(urecs, columns=['user', 'item', 'rating'])\n",
    "        return udf\n",
    "    \n",
    "    def evaluate_for_user(self, user_id, model, config, test=\"hist/test\", robust=True):\n",
    "        \"\"\"\n",
    "            test: {\"user\": [], \"item\": [], \"rating\": []}\n",
    "            candidates: \"all\", \"test\", \"negsample\"\n",
    "        \"\"\"\n",
    "        # 1. for the user, build candidate set\n",
    "        # 2. get system prediction for <user, item>, including Nan\n",
    "        \n",
    "        # 3. get user historical preference for <user, item>, including Nan\n",
    "        # 4. get user self-preference for <user, item>, including Nan\n",
    "        # 5. get user assess-preference for <user, item>, including Nan\n",
    "        \n",
    "        ucandidates = self.sys_predictions.get_user_candidates(user_id)\n",
    "         \n",
    "        # build different test set\n",
    "        if test == \"hist/test\":\n",
    "            test_df = self._get_user_hist_test(user_id)\n",
    "        elif test.startswith(\"self\"):\n",
    "            m = test.split(\"/\")[1]\n",
    "            test_df = self._get_user_self_test(user_id, model=m)\n",
    "            \n",
    "            # fill to peer_df\n",
    "            peer_df = self._get_user_peer_test(user_id)[['user', \"item\"]]\n",
    "            test_df = peer_df.merge(test_df, on=['user', 'item'], how=\"left\")\n",
    "            # print (test_df.info())\n",
    "            \n",
    "        elif test.startswith(\"peer\"):\n",
    "            test_df = self._get_user_peer_test(user_id)\n",
    "        else:\n",
    "            raise ValueError(\"Undefined test: {}\".format(test))\n",
    "        ui_v = dict([(u, i), int(v)] for u, i, v in zip(test_df['user'], test_df['item'], test_df['rating']))\n",
    "        \n",
    "        upreds = [self.sys_predictions.get_prediction(user_id, iid, model) for iid in ucandidates]\n",
    "        utest = [ui_v[(user_id, iid)] if (user_id, iid) in ui_v else np.nan for iid in ucandidates]\n",
    "        return evaluate_user(upreds, utest, config, robust=robust)"
   ]
  },
  {
   "cell_type": "code",
   "execution_count": 4,
   "metadata": {},
   "outputs": [],
   "source": [
    "model_names = {\n",
    "    \"tfbpr\": \"BPR\",\n",
    "    \"bias\": \"Bias\",\n",
    "    \"funksvd\": \"FunkSVD\",\n",
    "    \"itemknn\": \"ItemKNN\",\n",
    "    \"pop\": \"Pop\",\n",
    "    \"random\": \"Random\",\n",
    "    \"tfbiasedmf\": \"BiasedMF\",\n",
    "    \"userknn\": \"UserKNN\"\n",
    "}\n",
    "def plot_eval_rank(model_evals, metric, models=['random', \"pop\", \"userknn\", \"itemknn\", \"tfbiasedmf\", \"tfbpr\"], colors=[]):\n",
    "    def yerr(X):\n",
    "        n = len(X)\n",
    "        X_mean = np.nanmean(X)\n",
    "        X_std = np.std(X)\n",
    "        X_se = X_std / np.sqrt(n)\n",
    "        return X_se\n",
    "    \n",
    "    xs = np.arange(len(models))\n",
    "    ys = []\n",
    "    yerrs = []\n",
    "    for tm in models:\n",
    "        ys.append(model_evals[tm][metric]['mean'])\n",
    "        yerrs.append(yerr([t for t in model_evals[tm][metric]['list'] if not pd.isnull(t)]))\n",
    "    ys = np.array(ys)\n",
    "    yerrs = np.array(yerrs)\n",
    "    colors = np.array(colors)\n",
    "    print (xs)\n",
    "    plt.bar(xs[ys != np.nan], ys[ys != np.nan], color=colors[ys != np.nan])\n",
    "    for tx, ty in zip(xs[ys != np.nan], ys[ys != np.nan]):\n",
    "        plt.text(tx, ty, round(ty,3), ha=\"center\", va=\"bottom\")\n",
    "    plt.errorbar(xs[ys != np.nan], ys[ys != np.nan], yerr=yerrs[ys != np.nan], fmt=\"o\", markersize=1, elinewidth=1, capsize=3, color=\"k\")\n",
    "    # plt.xticks(xs, [model_names[tm] for tm in models], rotation=20)"
   ]
  },
  {
   "cell_type": "code",
   "execution_count": 5,
   "metadata": {},
   "outputs": [],
   "source": [
    "us_evaluator = UserStudyEvaluator()\n",
    "# user_ids = set(us_evaluator.df_user['user_id'])\n",
    "user_ids = [\n",
    "    \"u_15810795617\",\n",
    "    \"u_17801182378\",\n",
    "    \"u_15313346392\",\n",
    "    \"u_18222716322\",\n",
    "    \"u_15071347094\",\n",
    "    \"u_18712328742\",\n",
    "    \"u_15900292575\",\n",
    "    \"u_19920091165\",\n",
    "    \"u_18221771895\",\n",
    "    \"u_18811400801\",\n",
    "    \"u_18811195178\",\n",
    "    \"u_19801210262\",\n",
    "    \"u_18993873008\",\n",
    "    \"u_13701195791\",\n",
    "    \"u_18800182977\",\n",
    "    \"u_18801378212\"\n",
    "]"
   ]
  },
  {
   "cell_type": "markdown",
   "metadata": {},
   "source": [
    "# Rank, Full"
   ]
  },
  {
   "cell_type": "code",
   "execution_count": 13,
   "metadata": {},
   "outputs": [
    {
     "name": "stderr",
     "output_type": "stream",
     "text": [
      "/home/luhongyu/anaconda3/lib/python3.7/site-packages/ipykernel_launcher.py:67: RuntimeWarning: invalid value encountered in double_scalars\n",
      "/home/luhongyu/anaconda3/lib/python3.7/site-packages/numpy/core/fromnumeric.py:3373: RuntimeWarning: Mean of empty slice.\n",
      "  out=out, **kwargs)\n",
      "/home/luhongyu/anaconda3/lib/python3.7/site-packages/numpy/core/_methods.py:170: RuntimeWarning: invalid value encountered in double_scalars\n",
      "  ret = ret.dtype.type(ret / rcount)\n"
     ]
    },
    {
     "name": "stdout",
     "output_type": "stream",
     "text": [
      "9\n",
      "[0 1 2 3 4 5]\n"
     ]
    },
    {
     "name": "stderr",
     "output_type": "stream",
     "text": [
      "/home/luhongyu/anaconda3/lib/python3.7/site-packages/numpy/core/fromnumeric.py:3373: RuntimeWarning: Mean of empty slice.\n",
      "  out=out, **kwargs)\n",
      "/home/luhongyu/anaconda3/lib/python3.7/site-packages/numpy/core/_methods.py:170: RuntimeWarning: invalid value encountered in double_scalars\n",
      "  ret = ret.dtype.type(ret / rcount)\n",
      "/home/luhongyu/anaconda3/lib/python3.7/site-packages/ipykernel_launcher.py:67: RuntimeWarning: invalid value encountered in double_scalars\n"
     ]
    },
    {
     "name": "stdout",
     "output_type": "stream",
     "text": [
      "9\n",
      "[0 1 2 3 4 5]\n"
     ]
    },
    {
     "name": "stderr",
     "output_type": "stream",
     "text": [
      "/home/luhongyu/anaconda3/lib/python3.7/site-packages/numpy/core/fromnumeric.py:3373: RuntimeWarning: Mean of empty slice.\n",
      "  out=out, **kwargs)\n",
      "/home/luhongyu/anaconda3/lib/python3.7/site-packages/numpy/core/_methods.py:170: RuntimeWarning: invalid value encountered in double_scalars\n",
      "  ret = ret.dtype.type(ret / rcount)\n",
      "/home/luhongyu/anaconda3/lib/python3.7/site-packages/ipykernel_launcher.py:67: RuntimeWarning: invalid value encountered in double_scalars\n"
     ]
    },
    {
     "name": "stdout",
     "output_type": "stream",
     "text": [
      "9\n",
      "[0 1 2 3 4 5]\n"
     ]
    },
    {
     "data": {
      "image/png": "[encoded data removed]",
      "text/plain": [
       "<Figure size 936x144 with 3 Axes>"
      ]
     },
     "metadata": {
      "needs_background": "light"
     },
     "output_type": "display_data"
    }
   ],
   "source": [
    "random.seed(2021)\n",
    "\n",
    "# candidate=test vs. metric_mode=condensed: no.\n",
    "# op1: candidate=all, metric_mode=full, [missing=0]\n",
    "# op2: candidate=test, metric_mode=condensed [filter missing]\n",
    "# op3: candidate=sample, metric_mode=full\n",
    "config = {\n",
    "    \"task\": \"rank\",\n",
    "    \"candidate\": 'all', # all, test, sample\n",
    "    \"metrics\": ['ndcg', 'hit', 'hr', 'precision', 'recall', 'avg_gt'],\n",
    "    \"topk\": [3, 5, 10, 100, \"all\"],\n",
    "    \"bfun\": lambda t: 1.0 if t > 3 else 0.0,\n",
    "    \"metric_mode\": \"full\", # full, condensed\n",
    "    \"sample_total\": 100\n",
    "}\n",
    "\n",
    "plot_metric = \"ndcg@all\"\n",
    "self_model_colors = dict(zip(['random', \"pop\", \"bias\", \"userknn\", \"itemknn\", \"tfbiasedmf\", \"tfbpr\"], sns.color_palette(\"Reds\", 10)[1:-2]))\n",
    "model_colors = dict(zip(['random', \"pop\", \"bias\", \"userknn\", \"itemknn\", \"tfbiasedmf\", \"tfbpr\"], sns.color_palette(\"Blues\", 10)[1:-2]))\n",
    "plt.figure(figsize=(13, 2))\n",
    "\n",
    "def eval_models(test):\n",
    "    model_evals = {}\n",
    "    for model in ['random', 'pop', 'userknn', 'itemknn', 'tfbiasedmf', 'tfbpr']:\n",
    "        ures = {}\n",
    "        for user in set(us_evaluator.df_user['user_id']) & set(us_evaluator.df_peer['user_id']):\n",
    "            ures[user] = us_evaluator.evaluate_for_user(user, model, config=config, test=test, robust=False)\n",
    "\n",
    "        metric_res = {}\n",
    "        for user in ures:\n",
    "            for metric in ures[user]:\n",
    "                metric_res.setdefault(metric, {\"list\": []})\n",
    "                metric_res[metric]['list'].append(ures[user][metric])\n",
    "        for metric in metric_res:\n",
    "            metric_res[metric]['mean'] = np.nanmean(metric_res[metric]['list'])\n",
    "        model_evals[model] = metric_res\n",
    "    return model_evals\n",
    "\n",
    "\n",
    "def model_ranks_bootstrap(m_evals, metric, n=200, models=['random', \"pop\", \"userknn\", \"itemknn\", \"tfbiasedmf\", \"tfbpr\"]):\n",
    "    ms = list(model_evals.keys())\n",
    "    user_idxs = list(range(len(model_evals[ms[0]][metric]['list'])))\n",
    "    iter_n = int(len(user_idxs) * 0.6)\n",
    "    print (iter_n)\n",
    "    ans = []\n",
    "    for i in range(n):\n",
    "        random.seed(i)\n",
    "        t_u_idxs = list(user_idxs)\n",
    "        random.shuffle(t_u_idxs)\n",
    "        ans.append([np.mean(np.array(model_evals[m][metric]['list'])[t_u_idxs[:iter_n]]) for m in models])\n",
    "    return ans\n",
    "\n",
    "# -------- Hist/test --------- # \n",
    "model_evals = eval_models(\"hist/test\")\n",
    "hist_boot_ranks = model_ranks_bootstrap(model_evals, plot_metric)\n",
    "\n",
    "plt.subplot(1, 3, 3)\n",
    "models = ['random', \"pop\", \"userknn\", \"itemknn\", \"tfbiasedmf\", \"tfbpr\"]\n",
    "plot_eval_rank(model_evals, plot_metric, models=models, colors=[model_colors[tm] for tm in models])\n",
    "plt.ylim(0.0, 0.38)\n",
    "plt.xticks(range(len(models)), [model_names[t] for t in models], rotation=30)\n",
    "\n",
    "# -------- Self --------- # \n",
    "model_evals = eval_models(\"self/all\")\n",
    "self_boot_ranks = model_ranks_bootstrap(model_evals, plot_metric)\n",
    "\n",
    "plt.subplot(1, 3, 1)\n",
    "models = ['random', \"pop\", \"userknn\", \"itemknn\", \"tfbiasedmf\", \"tfbpr\"]\n",
    "plot_eval_rank(model_evals, plot_metric, models=models, colors=[self_model_colors[tm] for tm in models])\n",
    "plt.ylim(0.0, 0.75)\n",
    "plt.xticks(range(len(models)), [model_names[t] for t in models], rotation=30)\n",
    "\n",
    "\n",
    "# -------- Assessor --------- # \n",
    "model_evals = eval_models(\"peer/all\")\n",
    "peer_boot_ranks = model_ranks_bootstrap(model_evals, plot_metric)\n",
    "\n",
    "plt.subplot(1, 3, 2)\n",
    "models = ['random', \"pop\", \"userknn\", \"itemknn\", \"tfbiasedmf\", \"tfbpr\"]\n",
    "plot_eval_rank(model_evals, plot_metric, models=models, colors=[model_colors[tm] for tm in models])\n",
    "plt.ylim(0.0, 0.7)\n",
    "plt.xticks(range(len(models)), [model_names[t] for t in models], rotation=30)\n",
    "\n",
    "plt.subplots_adjust(wspace=0.15)\n",
    "plt.savefig(\"figures/all_full_ndcgall.pdf\", bbox_inches=\"tight\")"
   ]
  },
  {
   "cell_type": "code",
   "execution_count": 14,
   "metadata": {},
   "outputs": [
    {
     "name": "stdout",
     "output_type": "stream",
     "text": [
      "0.7739130434782607\n"
     ]
    }
   ],
   "source": [
    "from scipy import stats\n",
    "tau_list = []\n",
    "for i in range(len(self_boot_ranks)):\n",
    "    tau_list.append(stats.kendalltau(self_boot_ranks[i], peer_boot_ranks[i])[0])\n",
    "print (np.nanmean(tau_list))"
   ]
  },
  {
   "cell_type": "code",
   "execution_count": 15,
   "metadata": {},
   "outputs": [
    {
     "name": "stdout",
     "output_type": "stream",
     "text": [
      "0.281159420289855\n"
     ]
    }
   ],
   "source": [
    "from scipy import stats\n",
    "tau_list = []\n",
    "for i in range(len(self_boot_ranks)):\n",
    "    tau_list.append(stats.kendalltau(self_boot_ranks[i], hist_boot_ranks[i])[0])\n",
    "print (np.nanmean(tau_list))"
   ]
  },
  {
   "cell_type": "markdown",
   "metadata": {},
   "source": [
    "# Rank, Condensed"
   ]
  },
  {
   "cell_type": "code",
   "execution_count": 16,
   "metadata": {},
   "outputs": [
    {
     "name": "stderr",
     "output_type": "stream",
     "text": [
      "/home/luhongyu/anaconda3/lib/python3.7/site-packages/ipykernel_launcher.py:67: RuntimeWarning: invalid value encountered in double_scalars\n",
      "/home/luhongyu/anaconda3/lib/python3.7/site-packages/numpy/core/fromnumeric.py:3373: RuntimeWarning: Mean of empty slice.\n",
      "  out=out, **kwargs)\n",
      "/home/luhongyu/anaconda3/lib/python3.7/site-packages/numpy/core/_methods.py:170: RuntimeWarning: invalid value encountered in double_scalars\n",
      "  ret = ret.dtype.type(ret / rcount)\n"
     ]
    },
    {
     "name": "stdout",
     "output_type": "stream",
     "text": [
      "9\n",
      "[0 1 2 3 4 5]\n"
     ]
    },
    {
     "name": "stderr",
     "output_type": "stream",
     "text": [
      "/home/luhongyu/anaconda3/lib/python3.7/site-packages/numpy/core/fromnumeric.py:3373: RuntimeWarning: Mean of empty slice.\n",
      "  out=out, **kwargs)\n",
      "/home/luhongyu/anaconda3/lib/python3.7/site-packages/numpy/core/_methods.py:170: RuntimeWarning: invalid value encountered in double_scalars\n",
      "  ret = ret.dtype.type(ret / rcount)\n",
      "/home/luhongyu/anaconda3/lib/python3.7/site-packages/ipykernel_launcher.py:67: RuntimeWarning: invalid value encountered in double_scalars\n"
     ]
    },
    {
     "name": "stdout",
     "output_type": "stream",
     "text": [
      "9\n",
      "[0 1 2 3 4 5]\n"
     ]
    },
    {
     "name": "stderr",
     "output_type": "stream",
     "text": [
      "/home/luhongyu/anaconda3/lib/python3.7/site-packages/numpy/core/fromnumeric.py:3373: RuntimeWarning: Mean of empty slice.\n",
      "  out=out, **kwargs)\n",
      "/home/luhongyu/anaconda3/lib/python3.7/site-packages/numpy/core/_methods.py:170: RuntimeWarning: invalid value encountered in double_scalars\n",
      "  ret = ret.dtype.type(ret / rcount)\n",
      "/home/luhongyu/anaconda3/lib/python3.7/site-packages/ipykernel_launcher.py:67: RuntimeWarning: invalid value encountered in double_scalars\n"
     ]
    },
    {
     "name": "stdout",
     "output_type": "stream",
     "text": [
      "9\n",
      "[0 1 2 3 4 5]\n"
     ]
    },
    {
     "data": {
      "image/png": "[encoded data removed]",
      "text/plain": [
       "<Figure size 936x144 with 3 Axes>"
      ]
     },
     "metadata": {
      "needs_background": "light"
     },
     "output_type": "display_data"
    }
   ],
   "source": [
    "# candidate=test vs. metric_mode=condensed: no.\n",
    "# op1: candidate=all, metric_mode=full, [missing=0]\n",
    "# op2: candidate=test, metric_mode=condensed [filter missing]\n",
    "# op3: candidate=sample, metric_mode=full\n",
    "config = {\n",
    "    \"task\": \"rank\",\n",
    "    \"candidate\": 'sample', # all, test, sample\n",
    "    \"metrics\": ['ndcg', 'hit', 'hr', 'precision', 'recall', 'avg_gt'],\n",
    "    \"topk\": [3, 5, 10, 100, \"all\"],\n",
    "    \"bfun\": lambda t: 1.0 if t > 3 else 0.0,\n",
    "    \"metric_mode\": \"full\", # full, condensed\n",
    "    \"sample_total\": 100\n",
    "}\n",
    "\n",
    "random.seed(2021)\n",
    "\n",
    "plot_metric = \"ndcg@all\"\n",
    "model_colors = dict(zip(['random', \"pop\", \"bias\", \"userknn\", \"itemknn\", \"tfbiasedmf\", \"tfbpr\"], sns.color_palette(\"Blues\", 10)[1:-2]))\n",
    "plt.figure(figsize=(13, 2))\n",
    "\n",
    "\n",
    "def eval_models(test):\n",
    "    model_evals = {}\n",
    "    for model in ['random', 'pop', 'userknn', 'itemknn', 'tfbiasedmf', 'tfbpr']:\n",
    "        ures = {}\n",
    "        for user in set(us_evaluator.df_user['user_id']) & set(us_evaluator.df_peer['user_id']):\n",
    "            ures[user] = us_evaluator.evaluate_for_user(user, model, config=config, test=test, robust=False)\n",
    "\n",
    "        metric_res = {}\n",
    "        for user in ures:\n",
    "            for metric in ures[user]:\n",
    "                metric_res.setdefault(metric, {\"list\": []})\n",
    "                metric_res[metric]['list'].append(ures[user][metric])\n",
    "        for metric in metric_res:\n",
    "            metric_res[metric]['mean'] = np.nanmean(metric_res[metric]['list'])\n",
    "        model_evals[model] = metric_res\n",
    "    return model_evals\n",
    "\n",
    "\n",
    "# -------- Hist/test --------- # \n",
    "model_evals = eval_models(\"hist/test\")\n",
    "hist_boot_ranks = model_ranks_bootstrap(model_evals, plot_metric)\n",
    "\n",
    "plt.subplot(1, 3, 3)\n",
    "models = ['random', \"pop\", \"userknn\", \"itemknn\", \"tfbiasedmf\", \"tfbpr\"]\n",
    "plot_eval_rank(model_evals, plot_metric, models=models, colors=[model_colors[tm] for tm in models])\n",
    "# plt.ylim(0.0, 0.38)\n",
    "plt.ylim(0.0, 1.1)\n",
    "plt.xticks(range(len(models)), [model_names[t] for t in models], rotation=30)\n",
    "\n",
    "# -------- Self --------- # \n",
    "model_evals = eval_models(\"self/all\")\n",
    "self_boot_ranks = model_ranks_bootstrap(model_evals, plot_metric)\n",
    "\n",
    "plt.subplot(1, 3, 1)\n",
    "models = ['random', \"pop\", \"userknn\", \"itemknn\", \"tfbiasedmf\", \"tfbpr\"]\n",
    "plot_eval_rank(model_evals, plot_metric, models=models, colors=[self_model_colors[tm] for tm in models])\n",
    "plt.ylim(0.0, 1.1)\n",
    "plt.xticks(range(len(models)), [model_names[t] for t in models], rotation=30)\n",
    "\n",
    "\n",
    "# -------- Assessor --------- # \n",
    "model_evals = eval_models(\"peer/all\")\n",
    "peer_boot_ranks = model_ranks_bootstrap(model_evals, plot_metric)\n",
    "\n",
    "plt.subplot(1, 3, 2)\n",
    "models = ['random', \"pop\", \"userknn\", \"itemknn\", \"tfbiasedmf\", \"tfbpr\"]\n",
    "plot_eval_rank(model_evals, plot_metric, models=models, colors=[model_colors[tm] for tm in models])\n",
    "plt.ylim(0.0, 1.1)\n",
    "plt.xticks(range(len(models)), [model_names[t] for t in models], rotation=30)\n",
    "\n",
    "plt.subplots_adjust(wspace=0.15)\n",
    "plt.savefig(\"figures/sample_full_ndcgall.pdf\", bbox_inches=\"tight\")"
   ]
  },
  {
   "cell_type": "code",
   "execution_count": 17,
   "metadata": {},
   "outputs": [
    {
     "name": "stdout",
     "output_type": "stream",
     "text": [
      "0.644927536231884\n"
     ]
    }
   ],
   "source": [
    "from scipy import stats\n",
    "tau_list = []\n",
    "for i in range(len(self_boot_ranks)):\n",
    "    tau_list.append(stats.kendalltau(self_boot_ranks[i], peer_boot_ranks[i])[0])\n",
    "print (np.nanmean(tau_list))"
   ]
  },
  {
   "cell_type": "code",
   "execution_count": 18,
   "metadata": {},
   "outputs": [
    {
     "name": "stdout",
     "output_type": "stream",
     "text": [
      "0.2028985507246377\n"
     ]
    }
   ],
   "source": [
    "from scipy import stats\n",
    "tau_list = []\n",
    "for i in range(len(self_boot_ranks)):\n",
    "    tau_list.append(stats.kendalltau(self_boot_ranks[i], hist_boot_ranks[i])[0])\n",
    "print (np.nanmean(tau_list))"
   ]
  },
  {
   "cell_type": "markdown",
   "metadata": {},
   "source": [
    "# Rating Prediction"
   ]
  },
  {
   "cell_type": "code",
   "execution_count": 20,
   "metadata": {},
   "outputs": [
    {
     "name": "stdout",
     "output_type": "stream",
     "text": [
      "9\n",
      "[0 1 2]\n",
      "9\n",
      "[0 1 2]\n",
      "9\n",
      "[0 1 2]\n"
     ]
    },
    {
     "data": {
      "image/png": "[encoded data removed]",
      "text/plain": [
       "<Figure size 936x144 with 3 Axes>"
      ]
     },
     "metadata": {
      "needs_background": "light"
     },
     "output_type": "display_data"
    }
   ],
   "source": [
    "# candidate=test vs. metric_mode=condensed: no.\n",
    "# op1: candidate=all, metric_mode=full, [missing=0]\n",
    "# op2: candidate=test, metric_mode=condensed [filter missing]\n",
    "# op3: candidate=sample, metric_mode=full\n",
    "config = {\n",
    "    \"task\": \"rating\",\n",
    "    \"candidate\": 'test', # all, test, sample\n",
    "    \"metrics\": ['rmse', 'mae'],\n",
    "    \"topk\": [3, 5, 10, 100, \"all\"],\n",
    "    \"bfun\": lambda t: 1.0 if t > 3 else 0.0,\n",
    "    \"metric_mode\": \"condensed\", # full, condensed\n",
    "    \"sample_total\": 100,\n",
    "    \"around\": False,\n",
    "    \"truct\": None\n",
    "}\n",
    "\n",
    "random.seed(2021)\n",
    "\n",
    "plt.figure(figsize=(13, 2))\n",
    "# -------- Hist/test --------- # \n",
    "test = \"hist/test\"\n",
    "model_evals = {}\n",
    "for model in ['bias', 'userknn', 'itemknn', 'tfbiasedmf']:\n",
    "    ures = {}\n",
    "    for user in set(us_evaluator.df_user['user_id']) & set(us_evaluator.df_peer['user_id']):\n",
    "        ures[user] = us_evaluator.evaluate_for_user(user, model, config=config, test=test, robust=False)\n",
    "    \n",
    "    metric_res = {}\n",
    "    for user in ures:\n",
    "        for metric in ures[user]:\n",
    "            metric_res.setdefault(metric, {\"list\": []})\n",
    "            metric_res[metric]['list'].append(ures[user][metric])\n",
    "    for metric in metric_res:\n",
    "        metric_res[metric]['mean'] = np.nanmean(metric_res[metric]['list'])\n",
    "    model_evals[model] = metric_res\n",
    "\n",
    "hist_boot_ranks = model_ranks_bootstrap(model_evals, \"rmse\",  models=['bias', 'userknn', 'itemknn', 'tfbiasedmf'])\n",
    "\n",
    "plt.subplot(1, 3, 3)\n",
    "# model_colors = dict(zip(['bias', 'userknn', 'itemknn', 'tfbiasedmf'], sns.color_palette(\"pastel\", 4)))\n",
    "models = ['userknn', 'itemknn', 'tfbiasedmf']\n",
    "plot_eval_rank(model_evals, 'rmse', models=models, colors=[model_colors[tm] for tm in models])\n",
    "plt.xticks(range(len(models)), [model_names[t] for t in models], rotation=30)\n",
    "plt.xlim(-2.7, 3.3)\n",
    "plt.ylim(0.0, 2.0)\n",
    "\n",
    "# -------- Self --------- # \n",
    "test = \"self/all\"\n",
    "model_evals = {}\n",
    "for model in ['bias', 'userknn', 'itemknn', 'tfbiasedmf']:\n",
    "    ures = {}\n",
    "    for user in set(us_evaluator.df_user['user_id']) & set(us_evaluator.df_peer['user_id']):\n",
    "        ures[user] = us_evaluator.evaluate_for_user(user, model, config=config, test=test, robust=False)\n",
    "    \n",
    "    metric_res = {}\n",
    "    for user in ures:\n",
    "        for metric in ures[user]:\n",
    "            metric_res.setdefault(metric, {\"list\": []})\n",
    "            metric_res[metric]['list'].append(ures[user][metric])\n",
    "    for metric in metric_res:\n",
    "        metric_res[metric]['mean'] = np.nanmean(metric_res[metric]['list'])\n",
    "    model_evals[model] = metric_res\n",
    "\n",
    "self_boot_ranks = model_ranks_bootstrap(model_evals, \"rmse\", models=['bias', 'userknn', 'itemknn', 'tfbiasedmf'])\n",
    "\n",
    "plt.subplot(1, 3, 1)\n",
    "# model_colors = dict(zip(['bias', 'userknn', 'itemknn', 'tfbiasedmf'], sns.color_palette(\"pastel\", 4)))\n",
    "models = ['userknn', 'itemknn', 'tfbiasedmf']\n",
    "plot_eval_rank(model_evals, 'rmse', models=models, colors=[self_model_colors[tm] for tm in models])\n",
    "plt.xticks(range(len(models)), [model_names[t] for t in models], rotation=30)\n",
    "plt.xlim(-2.7, 3.3)\n",
    "plt.ylim(0.0, 2.0)\n",
    "\n",
    "# -------- Assessor --------- # \n",
    "test = \"peer/all\"\n",
    "model_evals = {}\n",
    "for model in ['bias', 'userknn', 'itemknn', 'tfbiasedmf']:\n",
    "    ures = {}\n",
    "    for user in set(us_evaluator.df_user['user_id']) & set(us_evaluator.df_peer['user_id']):\n",
    "        ures[user] = us_evaluator.evaluate_for_user(user, model, config=config, test=test, robust=False)\n",
    "    \n",
    "    metric_res = {}\n",
    "    for user in ures:\n",
    "        for metric in ures[user]:\n",
    "            metric_res.setdefault(metric, {\"list\": []})\n",
    "            metric_res[metric]['list'].append(ures[user][metric])\n",
    "    for metric in metric_res:\n",
    "        metric_res[metric]['mean'] = np.nanmean(metric_res[metric]['list'])\n",
    "    model_evals[model] = metric_res\n",
    "\n",
    "peer_boot_ranks = model_ranks_bootstrap(model_evals, \"rmse\", models=['bias', 'userknn', 'itemknn', 'tfbiasedmf'])\n",
    "\n",
    "plt.subplot(1, 3, 2)\n",
    "# model_colors = dict(zip(['bias', 'userknn', 'itemknn', 'tfbiasedmf'], sns.color_palette(\"pastel\", 4)))\n",
    "models = ['userknn', 'itemknn', 'tfbiasedmf']\n",
    "plot_eval_rank(model_evals, 'rmse', models=models, colors=[model_colors[tm] for tm in models])\n",
    "plt.xticks(range(len(models)), [model_names[t] for t in models], rotation=30)\n",
    "plt.xlim(-2.7, 3.3)\n",
    "plt.ylim(0.0, 2.0)\n",
    "\n",
    "plt.subplots_adjust(wspace=0.15)\n",
    "plt.savefig(\"figures/rating_rmse.pdf\", bbox_inches=\"tight\")"
   ]
  },
  {
   "cell_type": "code",
   "execution_count": 21,
   "metadata": {},
   "outputs": [
    {
     "name": "stdout",
     "output_type": "stream",
     "text": [
      "0.9021739130434783\n"
     ]
    }
   ],
   "source": [
    "from scipy import stats\n",
    "tau_list = []\n",
    "for i in range(len(self_boot_ranks)):\n",
    "    tau_list.append(stats.kendalltau(self_boot_ranks[i], peer_boot_ranks[i])[0])\n",
    "print (np.nanmean(tau_list))"
   ]
  },
  {
   "cell_type": "code",
   "execution_count": 22,
   "metadata": {},
   "outputs": [
    {
     "name": "stdout",
     "output_type": "stream",
     "text": [
      "0.49637681159420294\n"
     ]
    }
   ],
   "source": [
    "from scipy import stats\n",
    "tau_list = []\n",
    "for i in range(len(self_boot_ranks)):\n",
    "    tau_list.append(stats.kendalltau(self_boot_ranks[i], hist_boot_ranks[i])[0])\n",
    "print (np.nanmean(tau_list))"
   ]
  },
  {
   "cell_type": "code",
   "execution_count": null,
   "metadata": {},
   "outputs": [],
   "source": []
  }
 ],
 "metadata": {
  "kernelspec": {
   "display_name": "Python 3",
   "language": "python",
   "name": "python3"
  },
  "language_info": {
   "codemirror_mode": {
    "name": "ipython",
    "version": 3
   },
   "file_extension": ".py",
   "mimetype": "text/x-python",
   "name": "python",
   "nbconvert_exporter": "python",
   "pygments_lexer": "ipython3",
   "version": "3.7.3"
  }
 },
 "nbformat": 4,
 "nbformat_minor": 2
}
