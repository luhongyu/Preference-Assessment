{
 "cells": [
  {
   "cell_type": "code",
   "execution_count": 1,
   "metadata": {},
   "outputs": [],
   "source": [
    "import random\n",
    "from collections import Counter, defaultdict\n",
    "from pymongo import MongoClient\n",
    "import pickle\n",
    "import os\n",
    "import json\n",
    "from tqdm import tqdm_notebook\n",
    "import pandas as pd\n",
    "import numpy as np\n",
    "import datetime\n",
    "import seaborn as sns\n",
    "from utils import *\n",
    "from sklearn.metrics.pairwise import cosine_similarity\n",
    "import jieba\n",
    "import re\n",
    "import matplotlib.pyplot as plt\n",
    "from datetime import timedelta\n",
    "from sklearn.metrics import cohen_kappa_score\n",
    "import scipy.stats as stats\n",
    "from scipy.stats import pearsonr\n",
    "\n",
    "import pandas as pd\n",
    "import numpy as np\n",
    "import matplotlib.pyplot as plt\n",
    "import seaborn as sns\n",
    "import matplotlib\n",
    "from collections import Counter\n",
    "import utils\n",
    "from scipy.stats import pearsonr, spearmanr, ttest_ind, ttest_rel\n",
    "from sklearn.metrics import cohen_kappa_score, f1_score\n",
    "from sklearn.linear_model import LinearRegression\n",
    "from itertools import combinations\n",
    "import random\n",
    "import os\n",
    "from sklearn import metrics\n",
    "from tqdm import tqdm_notebook\n",
    "import re\n",
    "import jieba\n",
    "import json\n",
    "plt.rcParams[\"font.family\"] = \"SimHei\"\n",
    "\n",
    "sns.set_context(\"notebook\")\n",
    "sns.set_style(\"ticks\")\n",
    "%matplotlib inline"
   ]
  },
  {
   "cell_type": "code",
   "execution_count": 2,
   "metadata": {},
   "outputs": [],
   "source": [
    "colors = [\"#CD5B4D\", \"#F7CE5F\", \"#4F9F66\"]\n",
    "# snscolors = ['#A93537', '#3D71AB']\n",
    "blue = sns.color_palette(\"Blues\", 5)[-2]\n",
    "red = sns.color_palette(\"Reds\", 5)[-2]\n",
    "\n",
    "def plot_dist(dlist, vlist, label=\"\", offset=0, color=None, hatch=None):\n",
    "    cnt = Counter(dlist)\n",
    "    dist_vec = np.array([cnt[t] for t in vlist], dtype=float)\n",
    "    dist_vec = dist_vec / np.sum(dist_vec)\n",
    "    \n",
    "    plt.bar(np.arange(len(vlist))+offset, dist_vec, width=0.3, color=color, label=label)\n",
    "    if hatch:\n",
    "        plt.bar(np.arange(len(vlist))+offset, dist_vec, width=0.3, color=\"None\", edgecolor='k', hatch=hatch)\n",
    "\n",
    "    plt.legend()\n",
    "    plt.xticks(np.arange(len(vlist)), vlist)\n",
    "    \n",
    "def plot_dist_field(dlist, vlist, label=\"\", offset=0, color=\"r\", colorgroup=\"Reds\"):\n",
    "    cnt = Counter(dlist)\n",
    "    dist_vec = np.array([cnt[t] for t in vlist], dtype=float)\n",
    "    dist_vec = dist_vec / np.sum(dist_vec)\n",
    "    with sns.color_palette(colorgroup, len(vlist)) as tcolor:\n",
    "        for ti, tv in enumerate(dist_vec):\n",
    "            plt.bar(np.array([ti])+offset, [tv], width=1., label=str(ti+1), color=tcolor[ti])\n",
    "            # print (round(tv*100,1))\n",
    "            plt.text(ti + offset, tv+0.01, \"{}%\".format(round(tv*100,1)), horizontalalignment='center', verticalalignment='center')\n",
    "    # plt.legend()\n",
    "    plt.xticks(np.arange(len(vlist)), vlist)\n",
    "    \n",
    "def calculate_pvalues(df, fun=pearsonr):\n",
    "    df = df.dropna()._get_numeric_data()\n",
    "    dfcols = pd.DataFrame(columns=df.columns)\n",
    "    pvalues = dfcols.transpose().join(dfcols, how='outer')\n",
    "    for r in df.columns:\n",
    "        for c in df.columns:\n",
    "            pvalues[r][c] = round(fun(df[r], df[c])[1], 4)\n",
    "    return pvalues\n",
    "\n",
    "def ifdiff(dlist1, dlist2, fun=ttest_ind):\n",
    "    pv = ttest_ind(dlist1.dropna(), dlist2.dropna())[1]\n",
    "    return pv\n",
    "\n",
    "def stats(dlist):\n",
    "    return np.mean(dlist), np.var(dlist), np.max(dlist)\n",
    "\n",
    "def plot_heatmap(tmat, axis=0, reverse_y=True, xticks=range(1, 6), yticks=range(1, 6), vmax=None):\n",
    "    # axis=0: 按列归一化; axis=1: 按行归一化\n",
    "    plotmat = tmat.copy()\n",
    "    if axis == 0:\n",
    "        tdiv = np.sum(plotmat, axis=0)\n",
    "        tdiv[tdiv == 0] = 1\n",
    "        plotmat = plotmat / tdiv\n",
    "    else:\n",
    "        tdiv = np.sum(plotmat, axis=1).reshape((plotmat.shape[0], 1))\n",
    "        tdiv[tdiv == 0] = 1\n",
    "        plotmat = plotmat / tdiv\n",
    "\n",
    "    plotmat[np.isnan(plotmat)] = 0.0\n",
    "    if reverse_y:\n",
    "        sns.heatmap(plotmat[::-1,:], annot=True, cmap=\"Blues\", vmax=vmax)\n",
    "        plt.yticks(np.arange(plotmat.shape[0])+0.5, yticks[::-1])\n",
    "    plt.xticks(np.arange(plotmat.shape[0])+0.5, xticks)\n",
    "    \n",
    "def plot_change_mat(x, y, data):\n",
    "    tmat = np.zeros((5, 5))\n",
    "    for tv1, tv2 in zip(data[y], data[x]):\n",
    "        tmat[int(tv1)-1, int(tv2)-1] += 1\n",
    "    plot_heatmap(tmat, axis=0, reverse_y=True, vmax=0.7)\n",
    "    plt.xlabel(x)\n",
    "    plt.ylabel(y)\n",
    "    \n",
    "def compare(df1, df2, keys, plimit=1.0, fun=ttest_ind):\n",
    "    recs = []\n",
    "    anskeys = []\n",
    "    for tk in keys:\n",
    "        try:\n",
    "            tp = ifdiff(df1[tk], df2[tk], fun=fun)\n",
    "            recs.append((np.mean(df1[tk]), np.mean(df2[tk]), tp if tp <= plimit else np.nan))\n",
    "            anskeys.append(tk)\n",
    "        except:\n",
    "            pass\n",
    "    df_ans = pd.DataFrame.from_records(recs, columns=['left', 'right', 'p-value'], index=anskeys)\n",
    "    return df_ans\n",
    "\n",
    "def pcc(dlist1, dlist2):\n",
    "    idx = (pd.isnull(dlist1) == False) & (pd.isnull(dlist2) == False)\n",
    "    return pearsonr(dlist1[idx], dlist2[idx])\n",
    "\n",
    "def plot_scatter(x, y, data, color, reg=False):\n",
    "    tdf = data.copy().dropna()\n",
    "    plt.scatter(tdf[x], tdf[y], color=color)\n",
    "    if reg:\n",
    "        lr = LinearRegression()\n",
    "        x = np.array(tdf[x]).reshape((len(tdf), 1))\n",
    "        y = np.array(tdf[y]).reshape((len(tdf), 1)) \n",
    "        lr.fit(x, y)\n",
    "        plt.plot([[np.min(x)], [np.max(x)]], lr.predict([[np.min(x)], [np.max(x)]]), color=color)\n",
    "    \n",
    "def ctr(tdf):\n",
    "    return sum(tdf['ifclick']) / float(len(tdf))\n",
    "\n",
    "def is_outlier(points, threshold=3.5):\n",
    "    if len(points.shape) == 1:\n",
    "        points = points[:,None]\n",
    "\n",
    "    median = np.median(points, axis=0)\n",
    "\n",
    "    diff = np.sum((points - median)**2, axis=-1)\n",
    "    diff = np.sqrt(diff)\n",
    "    # 中位数绝对偏差\n",
    "    med_abs_deviation = np.median(diff)\n",
    "\n",
    "    # compute modified Z-score\n",
    "    # http://www.itl.nist.gov/div898/handbook/eda/section4/eda43.htm#Iglewicz\n",
    "    modified_z_score = 0.6745 * diff / med_abs_deviation\n",
    "\n",
    "    # return a mask for each outlier\n",
    "    return modified_z_score > threshold\n",
    "  "
   ]
  },
  {
   "cell_type": "code",
   "execution_count": 3,
   "metadata": {},
   "outputs": [],
   "source": [
    "# ----------- GENERAL OBJECTS ----------- # \n",
    "# %run \"[POST-Class] System Predictions (based on mongodb).ipynb\" # SysPrediction\n",
    "%run \"[Class] User Peer Feedback (based on gen-0).ipynb\" # UserFeedback, PeerAssessment\n",
    "\n",
    "PATH = \"data/user-study/\"\n",
    "df_user = pd.read_pickle(os.path.join(PATH, \"df_user.pkl\"))\n",
    "df_peer = pd.read_pickle(os.path.join(PATH, \"df_peer.pkl\"))\n",
    "df_item = pd.read_pickle(os.path.join(PATH, \"df_up_items.pkl\")) # outer join\n",
    "\n",
    "# sys_predictions = SysPrediction()\n",
    "user_feedback = UserFeedback(df_user)\n",
    "peer_assess = PeerAssessment(df_peer)\n",
    "\n",
    "UPREF = \"post_expected_preference\"\n",
    "APREF = \"peer_preference\"\n",
    "UWATCH = \"post_watch_intent\"\n",
    "AWATCH = \"peer_watch_intent\""
   ]
  },
  {
   "cell_type": "code",
   "execution_count": 4,
   "metadata": {},
   "outputs": [],
   "source": [
    "# chosen users\n",
    "user_ids = [\n",
    "    \"u_15810795617\",\n",
    "    \"u_17801182378\",\n",
    "    \"u_15313346392\",\n",
    "    \"u_18222716322\",\n",
    "    \"u_15071347094\",\n",
    "    \"u_18712328742\",\n",
    "    \"u_15900292575\",\n",
    "    \"u_19920091165\",\n",
    "    \"u_18221771895\",\n",
    "    \"u_18811400801\",\n",
    "    \"u_18811195178\",\n",
    "    \"u_19801210262\",\n",
    "    \"u_18993873008\",\n",
    "    \"u_13701195791\",\n",
    "    \"u_18800182977\",\n",
    "    \"u_18801378212\"\n",
    "]\n",
    "df_item = df_item[df_item['user_id'].isin(user_ids)].copy()\n",
    "df_user = df_user[df_user['user_id'].isin(user_ids)].copy()\n",
    "df_peer = df_peer[df_peer['user_id'].isin(user_ids)].copy()"
   ]
  },
  {
   "cell_type": "code",
   "execution_count": 5,
   "metadata": {},
   "outputs": [],
   "source": [
    "# add algorithm results\n",
    "client = MongoClient('mongodb://127.0.0.1:27017', username='', password=\"\")\n",
    "ui_algos = {}\n",
    "for urec in client.Assess.user_phase2_recommend_top3.find():\n",
    "    for trec in urec['rec_list']:\n",
    "        ui_algos[(urec['user_id'], trec['item'])] = dict(trec['algorithms'])\n",
    "df_item['algorithms'] = list(map(lambda t: ui_algos[(t[0], t[1])] if (t[0], t[1]) in ui_algos else {},\n",
    "                                      zip(df_item['user_id'], df_item['movie_id'])))\n",
    "\n",
    "# remove nan\n",
    "df_item.dropna(subset=['post_expected_preference', 'peer_preference'], inplace=True)\n",
    "df_item.reset_index(drop=True, inplace=True)"
   ]
  },
  {
   "cell_type": "markdown",
   "metadata": {},
   "source": [
    "# Assessment vs. User"
   ]
  },
  {
   "cell_type": "code",
   "execution_count": 6,
   "metadata": {},
   "outputs": [
    {
     "name": "stdout",
     "output_type": "stream",
     "text": [
      "[0.49770114942528737, 0.5022988505747127] [0.48160919540229885, 0.5183908045977011]\n"
     ]
    },
    {
     "data": {
      "text/plain": [
       "0.000518053496470345"
      ]
     },
     "execution_count": 6,
     "metadata": {},
     "output_type": "execute_result"
    }
   ],
   "source": [
    "# KL (2-scale)\n",
    "from scipy.stats import entropy\n",
    "\n",
    "user_cnt = Counter(df_item[UPREF].map(lambda t: 1 if int(t) > 3 else 0))\n",
    "user_p = [user_cnt[i] / float(len(df_item)) for i in range(0, 2)]\n",
    "\n",
    "peer_cnt = Counter(df_item[APREF].map(lambda t: 1 if int(t) > 3 else 0))\n",
    "peer_p = [peer_cnt[i] / float(len(df_item)) for i in range(0, 2)]\n",
    "\n",
    "print (user_p, peer_p)\n",
    "entropy(peer_p, user_p)"
   ]
  },
  {
   "cell_type": "code",
   "execution_count": 7,
   "metadata": {},
   "outputs": [
    {
     "name": "stdout",
     "output_type": "stream",
     "text": [
      "[0.04942528735632184, 0.2218390804597701, 0.2264367816091954, 0.3137931034482759, 0.18850574712643678] [0.02413793103448276, 0.167816091954023, 0.2896551724137931, 0.3781609195402299, 0.14022988505747128]\n"
     ]
    },
    {
     "data": {
      "text/plain": [
       "0.036259771277812755"
      ]
     },
     "execution_count": 7,
     "metadata": {},
     "output_type": "execute_result"
    }
   ],
   "source": [
    "# KL (5-scales)\n",
    "from scipy.stats import entropy\n",
    "\n",
    "user_cnt = Counter(df_item[UPREF].map(lambda t: int(t)))\n",
    "user_p = [user_cnt[i] / float(len(df_item)) for i in range(1, 6)]\n",
    "\n",
    "peer_cnt = Counter(df_item[APREF].map(lambda t: int(t)))\n",
    "peer_p = [peer_cnt[i] / float(len(df_item)) for i in range(1, 6)]\n",
    "\n",
    "print (user_p, peer_p)\n",
    "entropy(peer_p, user_p)\n",
    "\n",
    "# Figure 5: KL"
   ]
  },
  {
   "cell_type": "code",
   "execution_count": 8,
   "metadata": {},
   "outputs": [
    {
     "data": {
      "text/plain": [
       "(3.3701149425287356, 3.442528735632184)"
      ]
     },
     "execution_count": 8,
     "metadata": {},
     "output_type": "execute_result"
    }
   ],
   "source": [
    "# Section 4.2 (description)\n",
    "np.mean(list(df_item[UPREF].map(lambda t: int(t)))), np.mean(list(df_item[APREF].map(lambda t: int(t))))"
   ]
  },
  {
   "cell_type": "code",
   "execution_count": 9,
   "metadata": {},
   "outputs": [
    {
     "data": {
      "text/plain": [
       "(1.3503712511560313, 1.0076165940018498)"
      ]
     },
     "execution_count": 9,
     "metadata": {},
     "output_type": "execute_result"
    }
   ],
   "source": [
    "# Section 4.2 (description)\n",
    "np.var(list(df_item[UPREF].map(lambda t: int(t)))), np.var(list(df_item[APREF].map(lambda t: int(t))))"
   ]
  },
  {
   "cell_type": "code",
   "execution_count": 12,
   "metadata": {},
   "outputs": [],
   "source": [
    "def build_annot_matrix_for_kappa(item_labels, labels=range(1, 6)):\n",
    "    ans = []\n",
    "    for ls in item_labels:\n",
    "        cnt = Counter(ls)\n",
    "        ans.append([ cnt[t] for t in labels ])\n",
    "    return ans\n",
    "\n",
    "item_labels = []\n",
    "for (u, i), tdf in df_item.groupby(by=['user_id', 'movie_id']):\n",
    "    # item_labels.append([ int(tdf.iloc[0,:][UPREF]), np.around(np.mean(tdf[APREF])) ])\n",
    "    item_labels.append([ int(tdf.iloc[0,:][UPREF]), int(tdf.iloc[0,:][APREF]) ])\n",
    "    \n",
    "# rate = build_annot_matrix_for_kappa(item_labels)\n",
    "# # print (np.array(rate))\n",
    "# fleissKappa(rate, 2)"
   ]
  },
  {
   "cell_type": "code",
   "execution_count": 13,
   "metadata": {},
   "outputs": [
    {
     "name": "stdout",
     "output_type": "stream",
     "text": [
      "88 201 0.43781094527363185\n"
     ]
    }
   ],
   "source": [
    "# overlap. \n",
    "set_int = []\n",
    "set_union = []\n",
    "for i, (u, a) in enumerate(item_labels):\n",
    "    if u > 3 or a > 3:\n",
    "        set_union.append(i)\n",
    "    if u > 3 and a > 3:\n",
    "        set_int.append(i)\n",
    "print (len(set_int), len(set_union), len(set_int) / float(len(set_union)))\n",
    "\n",
    "# Section 4.2 comparison to literature."
   ]
  },
  {
   "cell_type": "code",
   "execution_count": 14,
   "metadata": {},
   "outputs": [
    {
     "name": "stdout",
     "output_type": "stream",
     "text": [
      "Krippendorff's alpha: 0.393\n"
     ]
    }
   ],
   "source": [
    "from krippendorff import *\n",
    "\n",
    "ui_idx = list(set([(u, i) for u, i in zip(df_item['user_id'], df_item['movie_id'])]))\n",
    "peer_labels = []\n",
    "\n",
    "peer_ui_dic = {}\n",
    "user_ui_dic = {}\n",
    "for (u, i), tdf in df_item.groupby(by=['user_id', 'movie_id']):\n",
    "    peer_ui_dic[(u, i)] = np.around(np.mean(tdf[APREF]))\n",
    "    user_ui_dic[(u, i)] = int(tdf.iloc[0,:][UPREF])\n",
    "\n",
    "peer_labels.append([ user_ui_dic[t] for t in ui_idx ])\n",
    "peer_labels.append([ peer_ui_dic[t] for t in ui_idx ])\n",
    "    \n",
    "print(\"Krippendorff's alpha:\", round(alpha(peer_labels, level_of_measurement='ordinal'), 3))\n",
    "\n",
    "# Table 2: line-4"
   ]
  },
  {
   "cell_type": "code",
   "execution_count": 15,
   "metadata": {},
   "outputs": [
    {
     "name": "stdout",
     "output_type": "stream",
     "text": [
      "Krippendorff's alpha: 0.296\n"
     ]
    }
   ],
   "source": [
    "# binary\n",
    "from krippendorff import *\n",
    "\n",
    "ui_idx = list(set([(u, i) for u, i in zip(df_item['user_id'], df_item['movie_id'])]))\n",
    "peer_labels = []\n",
    "\n",
    "peer_ui_dic = {}\n",
    "user_ui_dic = {}\n",
    "for (u, i), tdf in df_item.groupby(by=['user_id', 'movie_id']):\n",
    "    peer_ui_dic[(u, i)] = 1 if np.around(np.mean(tdf[APREF])) > 3 else 0\n",
    "    user_ui_dic[(u, i)] = 1 if int(tdf.iloc[0,:][UPREF]) > 3 else 0\n",
    "\n",
    "peer_labels.append([ user_ui_dic[t] for t in ui_idx ])\n",
    "peer_labels.append([ peer_ui_dic[t] for t in ui_idx ])\n",
    "    \n",
    "print(\"Krippendorff's alpha:\", round(alpha(peer_labels, level_of_measurement='ordinal'), 3))"
   ]
  },
  {
   "cell_type": "code",
   "execution_count": 16,
   "metadata": {},
   "outputs": [
    {
     "data": {
      "text/plain": [
       "(-0.03200000000000003, 0.01699999999999996)"
      ]
     },
     "execution_count": 16,
     "metadata": {},
     "output_type": "execute_result"
    }
   ],
   "source": [
    "# leave-one-peer-out\n",
    "peer_ids = list(set(df_item['peer_id']))\n",
    "alpha_list = []\n",
    "for tp in peer_ids:\n",
    "    data = df_item[df_item['peer_id'] != tp].copy()\n",
    "    \n",
    "    ui_idx = list(set([(u, i) for u, i in zip(data['user_id'], data['movie_id'])]))\n",
    "    peer_labels = []\n",
    "    peer_ui_dic = {}\n",
    "    user_ui_dic = {}\n",
    "    for (u, i), tdf in data.groupby(by=['user_id', 'movie_id']):\n",
    "        peer_ui_dic[(u, i)] = np.around(np.mean(tdf[APREF]))\n",
    "        user_ui_dic[(u, i)] = int(tdf.iloc[0,:][UPREF])\n",
    "\n",
    "    peer_labels.append([ user_ui_dic[t] for t in ui_idx ])\n",
    "    peer_labels.append([ peer_ui_dic[t] for t in ui_idx ])\n",
    "\n",
    "    # print(\"Krippendorff's alpha:\", round(alpha(peer_labels, level_of_measurement='ordinal'), 3))\n",
    "    alpha_list.append(round(alpha(peer_labels, level_of_measurement='ordinal'), 3))\n",
    "np.min(alpha_list), np.max(alpha_list)\n",
    "np.min(alpha_list) - 0.393, np.max(alpha_list) - 0.393"
   ]
  },
  {
   "cell_type": "code",
   "execution_count": 17,
   "metadata": {},
   "outputs": [
    {
     "data": {
      "text/plain": [
       "(-0.033999999999999975, 0.029000000000000026)"
      ]
     },
     "execution_count": 17,
     "metadata": {},
     "output_type": "execute_result"
    }
   ],
   "source": [
    "# leave-one-peer-out (binary)\n",
    "peer_ids = list(set(df_item['peer_id']))\n",
    "alpha_list = []\n",
    "for tp in peer_ids:\n",
    "    data = df_item[df_item['peer_id'] != tp].copy()\n",
    "    \n",
    "    ui_idx = list(set([(u, i) for u, i in zip(data['user_id'], data['movie_id'])]))\n",
    "    peer_labels = []\n",
    "    peer_ui_dic = {}\n",
    "    user_ui_dic = {}\n",
    "    for (u, i), tdf in data.groupby(by=['user_id', 'movie_id']):\n",
    "        peer_ui_dic[(u, i)] = 1 if np.around(np.mean(tdf[APREF])) > 3 else 0\n",
    "        user_ui_dic[(u, i)] = 1 if int(tdf.iloc[0,:][UPREF]) > 3 else 0\n",
    "\n",
    "    peer_labels.append([ user_ui_dic[t] for t in ui_idx ])\n",
    "    peer_labels.append([ peer_ui_dic[t] for t in ui_idx ])\n",
    "\n",
    "    # print(\"Krippendorff's alpha:\", round(alpha(peer_labels, level_of_measurement='ordinal'), 3))\n",
    "    alpha_list.append(round(alpha(peer_labels, level_of_measurement='ordinal'), 3))\n",
    "np.min(alpha_list), np.max(alpha_list)\n",
    "np.min(alpha_list) - 0.296, np.max(alpha_list) - 0.296"
   ]
  },
  {
   "cell_type": "code",
   "execution_count": 18,
   "metadata": {},
   "outputs": [
    {
     "name": "stdout",
     "output_type": "stream",
     "text": [
      "(0.3552374081035716, 2.836929078396666e-27)\n"
     ]
    },
    {
     "data": {
      "text/plain": [
       "(0.2413760815077256, 5.342127558464809e-13)"
      ]
     },
     "execution_count": 18,
     "metadata": {},
     "output_type": "execute_result"
    }
   ],
   "source": [
    "# Pearson's r (5-scale)\n",
    "print (pcc(df_item[APREF].map(lambda t: int(t)), df_item[UPREF].map(lambda t: int(t))))\n",
    "\n",
    "# Pearson's r (binary)\n",
    "pcc(df_item[APREF].map(lambda t: 1 if int(t) > 3 else 0), df_item[UPREF].map(lambda t: 1 if int(t) > 3 else 0))"
   ]
  },
  {
   "cell_type": "code",
   "execution_count": 19,
   "metadata": {},
   "outputs": [
    {
     "data": {
      "text/plain": [
       "1.2387424101162798"
      ]
     },
     "execution_count": 19,
     "metadata": {},
     "output_type": "execute_result"
    }
   ],
   "source": [
    "# RMSE\n",
    "np.sqrt(np.mean((df_item[APREF].map(lambda t: int(t)) - df_item[UPREF].map(lambda t: int(t)))**2))"
   ]
  },
  {
   "cell_type": "code",
   "execution_count": 20,
   "metadata": {},
   "outputs": [
    {
     "data": {
      "text/plain": [
       "0.6206896551724138"
      ]
     },
     "execution_count": 20,
     "metadata": {},
     "output_type": "execute_result"
    }
   ],
   "source": [
    "# Accuracy\n",
    "from sklearn.metrics import accuracy_score\n",
    "accuracy_score(df_item[UPREF].map(lambda t: 1 if int(t) > 3 else 0), df_item[APREF].map(lambda t: 1 if int(t) > 3 else 0))"
   ]
  },
  {
   "cell_type": "code",
   "execution_count": 21,
   "metadata": {},
   "outputs": [
    {
     "data": {
      "text/plain": [
       "0.7781609195402299"
      ]
     },
     "execution_count": 21,
     "metadata": {},
     "output_type": "execute_result"
    }
   ],
   "source": [
    "# percentage agreement ([-1, 1]: 79.8\\%): Table\n",
    "sum(np.fabs(df_item[UPREF].map(lambda t: int(t)) - df_item[APREF].map(lambda t: int(t))) <= 1) / float(len(df_item))"
   ]
  },
  {
   "cell_type": "code",
   "execution_count": 22,
   "metadata": {},
   "outputs": [
    {
     "data": {
      "text/plain": [
       "0.6206896551724138"
      ]
     },
     "execution_count": 22,
     "metadata": {},
     "output_type": "execute_result"
    }
   ],
   "source": [
    "# percentage agreement ([-1, 1]: 79.8\\%): Table\n",
    "sum(np.fabs(df_item[UPREF].map(lambda t: 1 if int(t) > 3 else 0) - df_item[APREF].map(lambda t: 1 if int(t) > 3 else 0)) == 0) / float(len(df_item))"
   ]
  },
  {
   "cell_type": "markdown",
   "metadata": {},
   "source": [
    "## Distributions"
   ]
  },
  {
   "cell_type": "code",
   "execution_count": 23,
   "metadata": {},
   "outputs": [
    {
     "data": {
      "image/png": "[encoded data removed]",
      "text/plain": [
       "<Figure size 432x288 with 1 Axes>"
      ]
     },
     "metadata": {
      "needs_background": "light"
     },
     "output_type": "display_data"
    }
   ],
   "source": [
    "plot_dist_field([int(t) for t in df_item['post_expected_preference']], range(1, 6))\n",
    "plot_dist_field(df_item['peer_preference'], range(1, 6), offset=6, colorgroup=\"Blues\")\n",
    "plt.ylim(0.0, 0.42)\n",
    "plt.xticks(list(range(0, 5)) + list(range(6, 11)), list(range(1, 6)) + list(range(1, 6)))\n",
    "plt.text(2, -0.065, \"User Self-Preference Label\", ha=\"center\")\n",
    "plt.text(8, -0.065, \"Assessor Preference Annotations\", ha=\"center\")\n",
    "plt.ylabel(\"Distribution of preference\")\n",
    "plt.savefig(\"figures/pref_dist.pdf\", bbox_inches=\"tight\")\n",
    "\n",
    "# Figure 5"
   ]
  },
  {
   "cell_type": "markdown",
   "metadata": {},
   "source": [
    "## Error distribution"
   ]
  },
  {
   "cell_type": "code",
   "execution_count": 24,
   "metadata": {},
   "outputs": [
    {
     "data": {
      "image/png": "[encoded data removed]",
      "text/plain": [
       "<Figure size 396x288 with 1 Axes>"
      ]
     },
     "metadata": {
      "needs_background": "light"
     },
     "output_type": "display_data"
    }
   ],
   "source": [
    "df_item['up_pref_diff'] = df_item['peer_preference'].map(lambda t: int(t)) - df_item['post_expected_preference'].map(lambda t: int(t))\n",
    "def Ratio(values):\n",
    "    cnt = Counter(values)\n",
    "    n = len(values)\n",
    "    ans = {}\n",
    "    for k, v in cnt.items():\n",
    "        ans[k] = v / float(n)\n",
    "    return ans\n",
    "\n",
    "def plot_dist_diff(dlist, vlist, label=\"\", offset=0, color=\"r\", colorgroup=\"Reds\", center_value=0):\n",
    "    cnt = Counter(dlist)\n",
    "    dist_vec = np.array([cnt[t] for t in vlist], dtype=float)\n",
    "    dist_vec = dist_vec / np.sum(dist_vec)\n",
    "    with sns.color_palette(colorgroup, len(vlist) // 2 + 2) as tcolor:\n",
    "        for ti, tv in enumerate(dist_vec):\n",
    "            plt.bar(np.array([ti])+offset, [tv], width=1., label=str(ti+1), color=tcolor[ -2-int(abs(vlist[ti] - center_value)) ])\n",
    "            # print (round(tv*100,1))\n",
    "            plt.text(ti + offset, tv+0.02, \"{}%\".format(round(tv*100,1)), horizontalalignment='center', verticalalignment='center')\n",
    "    # plt.legend()\n",
    "    plt.xticks(np.arange(len(vlist)), vlist)\n",
    "\n",
    "plt.figure(figsize=(5.5, 4))\n",
    "ax = plt.subplot(111)\n",
    "ax.spines['left'].set_visible(False)\n",
    "ax.spines['right'].set_visible(False)\n",
    "ax.spines['top'].set_visible(False)\n",
    "plot_dist_diff(df_item['up_pref_diff'], range(-4, 5))\n",
    "# plt.text(0.5, 0.33, \"#Assessor={}\\nAgree.[-1:1]={}\".format(1, round( 0.228+0.329+0.222 , 3)), color=red, ha=\"center\", va=\"bottom\")\n",
    "\n",
    "plt.plot([2.5, 2.5], [0.0, 0.38], \"--k\", lw=1)\n",
    "plt.plot([5.5, 5.5], [0.0, 0.38], \"--k\", lw=1)\n",
    "plt.plot([2.5, 5.5], [0.38, 0.38], \"--k\", lw=1)\n",
    "plt.ylim(0, 0.4)\n",
    "# plt.ylabel(\"Distribution\")\n",
    "plt.yticks([])\n",
    "plt.xlabel(\"$\\Delta(assessor-user)$\")\n",
    "plt.savefig(\"figures/delta.pdf\", bbox_inches=\"tight\")"
   ]
  },
  {
   "cell_type": "code",
   "execution_count": 25,
   "metadata": {},
   "outputs": [
    {
     "data": {
      "image/png": "[encoded data removed]",
      "text/plain": [
       "<Figure size 432x360 with 2 Axes>"
      ]
     },
     "metadata": {
      "needs_background": "light"
     },
     "output_type": "display_data"
    }
   ],
   "source": [
    "plt.figure(figsize=(6, 5))\n",
    "for k in range(2, 4):\n",
    "    up_diffs = []\n",
    "    for (u, i), tdf in df_item.groupby([\"user_id\", \"movie_id\"]):\n",
    "        upref = int(tdf.iloc[0,:][UPREF])\n",
    "        apref = np.around(np.mean(tdf.iloc[:k][APREF]))\n",
    "        up_diffs.append(apref - upref)\n",
    "    \n",
    "    ax = plt.subplot(2, 1, k-1)\n",
    "    ax.spines['left'].set_visible(False)\n",
    "    ax.spines['right'].set_visible(False)\n",
    "    ax.spines['top'].set_visible(False)\n",
    "    plot_dist_diff(up_diffs, range(-4, 5))\n",
    "    rto = Ratio(up_diffs)\n",
    "    # plt.text(0.6, 0.4, \"#Assessor={}\\nAgree.[-1:1]={}\".format(k, round( rto[-1] + rto[0] + rto[1] , 3)), color=red, ha=\"center\", va=\"bottom\")\n",
    "    plt.ylim(0, 0.52)\n",
    "    plt.plot([2.5, 2.5], [0.0, 0.42], \"--k\", lw=1)\n",
    "    plt.plot([5.5, 5.5], [0.0, 0.42], \"--k\", lw=1)\n",
    "    plt.plot([2.5, 5.5], [0.42, 0.42], \"--k\", lw=1)\n",
    "    if k == 3:\n",
    "        plt.xlabel(\"$\\Delta(assessor-user)$\")\n",
    "    else:\n",
    "        plt.xticks([])\n",
    "    plt.yticks([])\n",
    "plt.subplots_adjust(hspace=0.05)\n",
    "plt.savefig(\"figures/num_assess_agreement.pdf\", bbox_inches=\"tight\")"
   ]
  },
  {
   "cell_type": "code",
   "execution_count": 26,
   "metadata": {},
   "outputs": [
    {
     "name": "stdout",
     "output_type": "stream",
     "text": [
      "alpha 0.3932994321143375\n",
      "agree 0.3626760563380282\n",
      "agree 0.8204225352112676\n"
     ]
    }
   ],
   "source": [
    "# aggregated\n",
    "user_prefs = []\n",
    "peer_prefs = []\n",
    "for (u, i), tdf in df_item.groupby([\"user_id\", \"movie_id\"]):\n",
    "    upref = int(tdf.iloc[0,:][UPREF])\n",
    "    apref = np.around(np.mean(tdf[APREF])) # avg.\n",
    "    user_prefs.append(upref)\n",
    "    peer_prefs.append(apref)\n",
    "\n",
    "# Table 2. line(-7): avg.\n",
    "print (\"alpha\", alpha([user_prefs, peer_prefs], level_of_measurement=\"ordinal\"))\n",
    "print (\"agree\", sum(np.array(user_prefs) == np.array(peer_prefs)) / float(len(peer_prefs)))\n",
    "print (\"agree\", sum(np.abs(np.array(user_prefs)- np.array(peer_prefs)) <= 1) / float(len(peer_prefs)))"
   ]
  },
  {
   "cell_type": "code",
   "execution_count": 27,
   "metadata": {},
   "outputs": [
    {
     "name": "stdout",
     "output_type": "stream",
     "text": [
      "alpha 0.28990539015710437\n",
      "agree 0.6443661971830986\n"
     ]
    }
   ],
   "source": [
    "user_prefs = []\n",
    "peer_prefs = []\n",
    "for (u, i), tdf in df_item.groupby([\"user_id\", \"movie_id\"]):\n",
    "    upref = 1 if int(tdf.iloc[0,:][UPREF]) > 3 else 0\n",
    "    # apref = 1 if np.around(np.mean(tdf[APREF])) > 3 else 0 # avg.\n",
    "    apref = Counter([1 if t > 3 else 0 for t in tdf[APREF]]).most_common()[0][0]\n",
    "    user_prefs.append(upref)\n",
    "    peer_prefs.append(apref)\n",
    "    \n",
    "# Table 2. line(-7) # majority\n",
    "# print (user_prefs)\n",
    "print (\"alpha\", alpha([user_prefs, peer_prefs], level_of_measurement=\"ordinal\"))\n",
    "print (\"agree\", sum(np.array(user_prefs) == np.array(peer_prefs)) / float(len(peer_prefs)))"
   ]
  },
  {
   "cell_type": "markdown",
   "metadata": {},
   "source": [
    "## Transition Matrix"
   ]
  },
  {
   "cell_type": "code",
   "execution_count": 28,
   "metadata": {},
   "outputs": [
    {
     "data": {
      "image/png": "[encoded data removed]",
      "text/plain": [
       "<Figure size 360x288 with 2 Axes>"
      ]
     },
     "metadata": {
      "needs_background": "light"
     },
     "output_type": "display_data"
    }
   ],
   "source": [
    "# transition matrix\n",
    "plt.figure(figsize=(5, 4))\n",
    "plot_change_mat(\"post_expected_preference\", \"peer_preference\", df_item)\n",
    "plt.xlabel(\"User's Self-Preferences Label\")\n",
    "plt.ylabel(\"Assessor's Annotations\")\n",
    "plt.savefig(\"figures/change_mat.pdf\", bbox_inches=\"tight\")"
   ]
  },
  {
   "cell_type": "markdown",
   "metadata": {},
   "source": [
    "## Pairwise"
   ]
  },
  {
   "cell_type": "code",
   "execution_count": 29,
   "metadata": {},
   "outputs": [
    {
     "name": "stdout",
     "output_type": "stream",
     "text": [
      "Krippendorff's alpha: 0.426\n"
     ]
    }
   ],
   "source": [
    "def build_item_pairs_within_user(df_item, key=\"user_id\", value=\"movie_id\"):\n",
    "    ans = []\n",
    "    for u, tdf in df_item.groupby(key):\n",
    "        for v1, v2 in combinations(set(tdf[value]), 2):\n",
    "            if random.random() > 0.5:\n",
    "                v1, v2 = v2, v1\n",
    "            ans.append((u, v1, v2))\n",
    "    return ans\n",
    "random.seed(2021)\n",
    "user_itempairs = build_item_pairs_within_user(df_item)\n",
    "\n",
    "peer_ui_dic = {}\n",
    "user_ui_dic = {}\n",
    "for (u, i), tdf in df_item.groupby(by=['user_id', 'movie_id']):\n",
    "    peer_ui_dic[(u, i)] = np.around(np.mean(tdf[APREF]))\n",
    "    user_ui_dic[(u, i)] = int(tdf.iloc[0,:][UPREF])\n",
    "\n",
    "pair_upref = []\n",
    "pair_apref = []\n",
    "for u, i1, i2 in user_itempairs:\n",
    "    u1, u2 = user_ui_dic[(u, i1)], user_ui_dic[(u, i2)]\n",
    "    pair_upref.append( 1 if u1 < u2 else 2 if u1 == u2 else 3 )\n",
    "    \n",
    "    p1, p2 = peer_ui_dic[(u, i1)], peer_ui_dic[(u, i2)]\n",
    "    pair_apref.append( 1 if p1 < p2 else 2 if p1 == p2 else 3 )\n",
    "    \n",
    "print(\"Krippendorff's alpha:\", round(alpha([pair_upref, pair_apref], level_of_measurement='ordinal'), 3))\n",
    "\n",
    "# Table 2: pairwise."
   ]
  },
  {
   "cell_type": "code",
   "execution_count": 30,
   "metadata": {},
   "outputs": [
    {
     "data": {
      "text/plain": [
       "0.5111204364246748"
      ]
     },
     "execution_count": 30,
     "metadata": {},
     "output_type": "execute_result"
    }
   ],
   "source": [
    "# Concordance\n",
    "pair_upref = np.array(pair_upref)\n",
    "pair_apref = np.array(pair_apref)\n",
    "\n",
    "idx = pair_upref > 0\n",
    "sum(pair_upref[idx] == pair_apref[idx]) / float(len(pair_upref[idx]))\n",
    "\n",
    "# Table 2: concordance"
   ]
  },
  {
   "cell_type": "code",
   "execution_count": 31,
   "metadata": {},
   "outputs": [
    {
     "data": {
      "text/plain": [
       "0.5387263339070568"
      ]
     },
     "execution_count": 31,
     "metadata": {},
     "output_type": "execute_result"
    }
   ],
   "source": [
    "# Concordance\n",
    "pair_upref_filter = np.array([t for t in pair_upref if t != 2])\n",
    "pair_apref_filter = np.array([a for u, a in zip(pair_upref, pair_apref) if u != 2])\n",
    "\n",
    "idx = pair_upref_filter > 0\n",
    "sum(pair_upref_filter[idx] == pair_apref_filter[idx]) / float(len(pair_upref_filter[idx]))\n",
    "\n",
    "# Table 2: concordance"
   ]
  },
  {
   "cell_type": "code",
   "execution_count": 32,
   "metadata": {},
   "outputs": [
    {
     "name": "stdout",
     "output_type": "stream",
     "text": [
      "Krippendorff's alpha: 0.337\n"
     ]
    }
   ],
   "source": [
    "def build_item_pairs_within_user(df_item, key=\"user_id\", value=\"movie_id\"):\n",
    "    ans = []\n",
    "    for u, tdf in df_item.groupby(key):\n",
    "        for v1, v2 in combinations(set(tdf[value]), 2):\n",
    "            if random.random() > 0.5:\n",
    "                v1, v2 = v2, v1\n",
    "            ans.append((u, v1, v2))\n",
    "    return ans\n",
    "random.seed(2021)\n",
    "user_itempairs = build_item_pairs_within_user(df_item)\n",
    "\n",
    "peer_ui_dic = {}\n",
    "user_ui_dic = {}\n",
    "for (u, i), tdf in df_item.groupby(by=['user_id', 'movie_id']):\n",
    "    peer_ui_dic[(u, i)] = 1 if np.around(np.mean(tdf[APREF])) > 3 else 0\n",
    "    user_ui_dic[(u, i)] = 1 if int(tdf.iloc[0,:][UPREF]) > 3 else 0\n",
    "\n",
    "pair_upref = []\n",
    "pair_apref = []\n",
    "for u, i1, i2 in user_itempairs:\n",
    "    u1, u2 = user_ui_dic[(u, i1)], user_ui_dic[(u, i2)]\n",
    "    pair_upref.append( 1 if u1 < u2 else 2 if u1 == u2 else 3 )\n",
    "    \n",
    "    p1, p2 = peer_ui_dic[(u, i1)], peer_ui_dic[(u, i2)]\n",
    "    pair_apref.append( 1 if p1 < p2 else 2 if p1 == p2 else 3 )\n",
    "    \n",
    "print(\"Krippendorff's alpha:\", round(alpha([pair_upref, pair_apref], level_of_measurement='ordinal'), 3))"
   ]
  },
  {
   "cell_type": "code",
   "execution_count": 33,
   "metadata": {},
   "outputs": [
    {
     "data": {
      "text/plain": [
       "2383"
      ]
     },
     "execution_count": 33,
     "metadata": {},
     "output_type": "execute_result"
    }
   ],
   "source": [
    "len(user_itempairs)"
   ]
  },
  {
   "cell_type": "code",
   "execution_count": 34,
   "metadata": {},
   "outputs": [
    {
     "data": {
      "text/plain": [
       "0.5115400755350399"
      ]
     },
     "execution_count": 34,
     "metadata": {},
     "output_type": "execute_result"
    }
   ],
   "source": [
    "# Concordance\n",
    "pair_upref = np.array(pair_upref)\n",
    "pair_apref = np.array(pair_apref)\n",
    "\n",
    "idx = pair_upref > 0\n",
    "sum(pair_upref[idx] == pair_apref[idx]) / float(len(pair_upref[idx]))\n",
    "\n",
    "# Table 2: concordance"
   ]
  },
  {
   "cell_type": "code",
   "execution_count": 35,
   "metadata": {},
   "outputs": [
    {
     "data": {
      "text/plain": [
       "0.4424778761061947"
      ]
     },
     "execution_count": 35,
     "metadata": {},
     "output_type": "execute_result"
    }
   ],
   "source": [
    "# Concordance\n",
    "pair_upref = np.array(pair_upref)\n",
    "pair_apref = np.array(pair_apref)\n",
    "\n",
    "idx = pair_upref != 2\n",
    "sum(pair_upref[idx] == pair_apref[idx]) / float(len(pair_upref[idx]))\n",
    "\n",
    "# Table 2: concordance"
   ]
  },
  {
   "cell_type": "code",
   "execution_count": null,
   "metadata": {},
   "outputs": [],
   "source": []
  }
 ],
 "metadata": {
  "kernelspec": {
   "display_name": "Python 3",
   "language": "python",
   "name": "python3"
  },
  "language_info": {
   "codemirror_mode": {
    "name": "ipython",
    "version": 3
   },
   "file_extension": ".py",
   "mimetype": "text/x-python",
   "name": "python",
   "nbconvert_exporter": "python",
   "pygments_lexer": "ipython3",
   "version": "3.7.3"
  }
 },
 "nbformat": 4,
 "nbformat_minor": 2
}
