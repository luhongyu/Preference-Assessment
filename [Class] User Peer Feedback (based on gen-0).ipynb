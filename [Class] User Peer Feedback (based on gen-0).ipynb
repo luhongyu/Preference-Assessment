{
 "cells": [
  {
   "cell_type": "code",
   "execution_count": 14,
   "metadata": {},
   "outputs": [],
   "source": [
    "import random\n",
    "from collections import Counter, defaultdict\n",
    "from pymongo import MongoClient\n",
    "import pickle\n",
    "import os\n",
    "import json\n",
    "from tqdm import tqdm_notebook\n",
    "import pandas as pd\n",
    "import numpy as np\n",
    "import datetime\n",
    "import seaborn as sns\n",
    "from utils import *\n",
    "from sklearn.metrics.pairwise import cosine_similarity\n",
    "import jieba\n",
    "import re\n",
    "import matplotlib.pyplot as plt\n",
    "from datetime import timedelta"
   ]
  },
  {
   "cell_type": "code",
   "execution_count": 1,
   "metadata": {},
   "outputs": [],
   "source": [
    "class UserFeedback:\n",
    "    def __init__(self, df_user):\n",
    "        self.user_movie_feedback = {}\n",
    "        for i, row in df_user.iterrows():\n",
    "            key = (row['user_id'], row['movie_id'])\n",
    "            if key in self.user_movie_feedback:\n",
    "                print (\"Error\", key)\n",
    "            self.user_movie_feedback[key] = dict(row)\n",
    "    \n",
    "    def get_ui_value(self, user_id, item_id, key=\"post_expected_preference\"):\n",
    "        ui_key = (user_id, item_id)\n",
    "        if ui_key in self.user_movie_feedback:\n",
    "            if key in self.user_movie_feedback[ui_key]:\n",
    "                return int(self.user_movie_feedback[ui_key][key])\n",
    "        # print (\"Not found\")\n",
    "        return np.nan\n",
    "\n",
    "class PeerAssessment:\n",
    "    def __init__(self, df_peer):\n",
    "        self.peer_user_movie_assessment = {}\n",
    "        self.user_movie_peer_assessment = {}\n",
    "        for i, row in df_peer.iterrows():\n",
    "            key = (row['peer_id'], row['user_id'], row['movie_id'])\n",
    "            if key in self.peer_user_movie_assessment:\n",
    "                print (\"Error\", key)\n",
    "            self.peer_user_movie_assessment[key] = dict(row)\n",
    "            \n",
    "            key = (row['user_id'], row['movie_id'])\n",
    "            self.user_movie_peer_assessment.setdefault(key, {})\n",
    "            self.user_movie_peer_assessment[key][row['peer_id']] = dict(row)\n",
    "    \n",
    "    def get_pui_value(self, peer_id, user_id, item_id, key=\"peer_preference\"):\n",
    "        pui_key = (peer_id, user_id, item_id)\n",
    "        if pui_key in self.peer_user_movie_assessment:\n",
    "            if key in self.peer_user_movie_assessment[pui_key]:\n",
    "                return self.peer_user_movie_assessment[pui_key][key]\n",
    "        # print (\"Not found\")\n",
    "        return np.nan\n",
    "    \n",
    "    def get_ui_value(self, user_id, item_id, key=\"peer_preference\", fun=lambda t: t[0]):\n",
    "        ui_key = (user_id, item_id)\n",
    "        if ui_key in self.user_movie_peer_assessment:\n",
    "            ans = {}\n",
    "            for p, vs in self.user_movie_peer_assessment[ui_key].items():\n",
    "                ans[p] = vs[key]\n",
    "            return ans\n",
    "        return None"
   ]
  },
  {
   "cell_type": "code",
   "execution_count": 16,
   "metadata": {},
   "outputs": [],
   "source": [
    "# if __name__ == \"__main__\":\n",
    "#     user_feedback = UserFesedback(pd.read_pickle(\"data/user-study/bug/df_user.pkl\"))\n",
    "#     peer_assess = PeerAssessment(pd.read_pickle(\"data/user-study/bug/df_peer.pkl\"))"
   ]
  },
  {
   "cell_type": "code",
   "execution_count": null,
   "metadata": {},
   "outputs": [],
   "source": []
  }
 ],
 "metadata": {
  "kernelspec": {
   "display_name": "Python 3",
   "language": "python",
   "name": "python3"
  },
  "language_info": {
   "codemirror_mode": {
    "name": "ipython",
    "version": 3
   },
   "file_extension": ".py",
   "mimetype": "text/x-python",
   "name": "python",
   "nbconvert_exporter": "python",
   "pygments_lexer": "ipython3",
   "version": "3.7.3"
  }
 },
 "nbformat": 4,
 "nbformat_minor": 2
}
