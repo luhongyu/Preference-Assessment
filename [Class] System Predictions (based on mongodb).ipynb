{
 "cells": [
  {
   "cell_type": "code",
   "execution_count": 5,
   "metadata": {},
   "outputs": [],
   "source": [
    "import random\n",
    "from collections import Counter, defaultdict\n",
    "from pymongo import MongoClient\n",
    "import pickle\n",
    "import os\n",
    "import json\n",
    "from tqdm import tqdm_notebook\n",
    "import pandas as pd\n",
    "import numpy as np\n",
    "import datetime\n",
    "import seaborn as sns\n",
    "from utils import *\n",
    "from sklearn.metrics.pairwise import cosine_similarity\n",
    "import jieba\n",
    "import re\n",
    "import matplotlib.pyplot as plt\n",
    "from datetime import timedelta"
   ]
  },
  {
   "cell_type": "code",
   "execution_count": 2,
   "metadata": {
    "scrolled": true
   },
   "outputs": [],
   "source": [
    "class SysPrediction:\n",
    "    def __init__(self, db=\"system_predictions\"):\n",
    "        client = MongoClient('mongodb://127.0.0.1:27017', username='', password=\"\")\n",
    "        if db == \"system_predictions_all\":\n",
    "            self.system_predictions = client.Assess.system_predictions_all\n",
    "        else:\n",
    "            self.system_predictions = client.Assess.system_predictions\n",
    "        self.user_ids = set([t['user_id'] for t in self.system_predictions.find()])\n",
    "        self.user_model_ranks = {}\n",
    "        self.user_model_predictions = {}\n",
    "        self.__build_ranks()\n",
    "        self.__build_predictions()\n",
    "    \n",
    "    def __build_ranks(self):\n",
    "        self.user_model_ranks = {}\n",
    "        for tu in self.user_ids:\n",
    "            upred = {}\n",
    "            for tpred in self.system_predictions.find({\"user_id\": tu}):\n",
    "                upred[tpred['model']] = sorted([t for t in tpred['predictions'] if pd.isnull(t['score']) == False], key=lambda t: t['score'], reverse=True)\n",
    "            self.user_model_ranks[tu] = upred\n",
    "    \n",
    "    def __build_predictions(self):\n",
    "        self.user_model_predictions = {}\n",
    "        for tu in self.user_ids:\n",
    "            upred = {}\n",
    "            for tpred in self.system_predictions.find({\"user_id\": tu}):\n",
    "                upred.setdefault(tpred['model'], {})\n",
    "                for t in tpred['predictions']:\n",
    "                    upred[tpred['model']][t['movieId']] = t['score']\n",
    "            self.user_model_predictions[tu] = upred\n",
    "    \n",
    "    def get_prediction(self, user_id, item_id, model):\n",
    "        if user_id in self.user_model_predictions:\n",
    "            if model in self.user_model_predictions[user_id]:\n",
    "                if item_id in self.user_model_predictions[user_id][model]:\n",
    "                    return self.user_model_predictions[user_id][model][item_id]\n",
    "        # print (\"No prediction\", user_id, item_id, model)\n",
    "        return np.nan\n",
    "\n",
    "    def get_rank(self, user_id, model, k=10):\n",
    "        if user_id in self.user_model_ranks:\n",
    "            if model in self.user_model_ranks[user_id]:\n",
    "                if k != None:\n",
    "                    return self.user_model_ranks[user_id][model][:k]\n",
    "                return self.user_model_ranks[user_id][model]\n",
    "        print (\"No rank\", user_id, model)\n",
    "        return []\n",
    "    \n",
    "    def get_user_candidates(self, user_id):\n",
    "        if user_id in self.user_model_ranks:\n",
    "            if \"random\" in self.user_model_predictions[user_id]:\n",
    "                return [t for t in self.user_model_predictions[user_id]['random'].keys()]\n",
    "            print (\"no random!\")"
   ]
  },
  {
   "cell_type": "code",
   "execution_count": 4,
   "metadata": {},
   "outputs": [],
   "source": [
    "# if __name__ == \"__main__\":\n",
    "#     sys_pred = SysPrediction()\n",
    "#     sys_pred.get_rank(\"u_13572956735\", \"pop\")"
   ]
  },
  {
   "cell_type": "code",
   "execution_count": null,
   "metadata": {},
   "outputs": [],
   "source": []
  }
 ],
 "metadata": {
  "kernelspec": {
   "display_name": "Python 3",
   "language": "python",
   "name": "python3"
  },
  "language_info": {
   "codemirror_mode": {
    "name": "ipython",
    "version": 3
   },
   "file_extension": ".py",
   "mimetype": "text/x-python",
   "name": "python",
   "nbconvert_exporter": "python",
   "pygments_lexer": "ipython3",
   "version": "3.7.3"
  }
 },
 "nbformat": 4,
 "nbformat_minor": 2
}
