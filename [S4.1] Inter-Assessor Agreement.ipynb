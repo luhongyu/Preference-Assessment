{
 "cells": [
  {
   "cell_type": "code",
   "execution_count": 1,
   "metadata": {},
   "outputs": [],
   "source": [
    "import random\n",
    "from collections import Counter, defaultdict\n",
    "from pymongo import MongoClient\n",
    "import pickle\n",
    "import os\n",
    "import json\n",
    "from tqdm import tqdm_notebook\n",
    "import pandas as pd\n",
    "import numpy as np\n",
    "import datetime\n",
    "import seaborn as sns\n",
    "from utils import *\n",
    "from sklearn.metrics.pairwise import cosine_similarity\n",
    "import jieba\n",
    "import re\n",
    "import matplotlib.pyplot as plt\n",
    "from datetime import timedelta\n",
    "from sklearn.metrics import cohen_kappa_score\n",
    "import scipy.stats as stats\n",
    "from scipy.stats import pearsonr"
   ]
  },
  {
   "cell_type": "markdown",
   "metadata": {},
   "source": [
    "# Build Dataset"
   ]
  },
  {
   "cell_type": "code",
   "execution_count": 2,
   "metadata": {},
   "outputs": [],
   "source": [
    "# ----------- GENERAL OBJECTS ----------- # \n",
    "# TODO: change mongodb to dataframe\n",
    "\n",
    "# %run \"[POST-Class] System Predictions (based on mongodb).ipynb\" # SysPrediction\n",
    "%run \"[Class] User Peer Feedback (based on gen-0).ipynb\" # UserFeedback, PeerAssessment\n",
    "\n",
    "PATH = \"data/user-study/\"\n",
    "df_user = pd.read_pickle(os.path.join(PATH, \"df_user.pkl\"))\n",
    "df_peer = pd.read_pickle(os.path.join(PATH, \"df_peer.pkl\"))\n",
    "df_item = pd.read_pickle(os.path.join(PATH, \"df_up_items.pkl\")) # outer join\n",
    "\n",
    "# sys_predictions = SysPrediction()\n",
    "user_feedback = UserFeedback(df_user)\n",
    "peer_assess = PeerAssessment(df_peer)"
   ]
  },
  {
   "cell_type": "code",
   "execution_count": 3,
   "metadata": {},
   "outputs": [],
   "source": [
    "# data preprocessing\n",
    "# TODO: anonymilization\n",
    "user_ids = [\n",
    "    \"u_15810795617\",\n",
    "    \"u_17801182378\",\n",
    "    \"u_15313346392\",\n",
    "    \"u_18222716322\",\n",
    "    \"u_15071347094\",\n",
    "    \"u_18712328742\",\n",
    "    \"u_15900292575\",\n",
    "    \"u_19920091165\",\n",
    "    \"u_18221771895\",\n",
    "    \"u_18811400801\",\n",
    "    \"u_18811195178\",\n",
    "    \"u_19801210262\",\n",
    "    \"u_18993873008\",\n",
    "    \"u_13701195791\",\n",
    "    \"u_18800182977\",\n",
    "    \"u_18801378212\"\n",
    "]\n",
    "df_item = df_item[df_item['user_id'].isin(user_ids)].copy()\n",
    "df_user = df_user[df_user['user_id'].isin(user_ids)].copy()\n",
    "df_peer = df_peer[df_peer['user_id'].isin(user_ids)].copy()"
   ]
  },
  {
   "cell_type": "code",
   "execution_count": 4,
   "metadata": {},
   "outputs": [],
   "source": [
    "# add algorithm results\n",
    "client = MongoClient('mongodb://127.0.0.1:27017', username='', password=\"\")\n",
    "ui_algos = {}\n",
    "for urec in client.Assess.user_phase2_recommend_top3.find(): # user_phase2_recommend_top3 is the rec data used in user study.\n",
    "    for trec in urec['rec_list']:\n",
    "        ui_algos[(urec['user_id'], trec['item'])] = dict(trec['algorithms'])\n",
    "df_item['algorithms'] = list(map(lambda t: ui_algos[(t[0], t[1])] if (t[0], t[1]) in ui_algos else {},\n",
    "                                      zip(df_item['user_id'], df_item['movie_id'])))\n",
    "\n",
    "# remove nan\n",
    "df_item.dropna(subset=['peer_preference'], inplace=True)\n",
    "df_item.reset_index(drop=True, inplace=True)"
   ]
  },
  {
   "cell_type": "markdown",
   "metadata": {},
   "source": [
    "# Statsitics"
   ]
  },
  {
   "cell_type": "code",
   "execution_count": 5,
   "metadata": {},
   "outputs": [
    {
     "name": "stdout",
     "output_type": "stream",
     "text": [
      "Number of users: 16\n",
      "Number of peers: 19\n",
      "Number of <user, item> feedback: 284\n",
      "Number of <user, item, peer> annotation: 870\n"
     ]
    }
   ],
   "source": [
    "print (\"Number of users: {}\".format(len(set(df_item['user_id']))))\n",
    "print (\"Number of peers: {}\".format(len(set(df_item['peer_id']))))\n",
    "print (\"Number of <user, item> feedback: {}\".format(len(set(zip(df_item['user_id'], df_item['movie_id'])))))\n",
    "print (\"Number of <user, item, peer> annotation: {}\".format(len(set(zip(df_item['user_id'], df_item['movie_id'], df_item['peer_id'])))))"
   ]
  },
  {
   "cell_type": "code",
   "execution_count": 6,
   "metadata": {},
   "outputs": [
    {
     "name": "stdout",
     "output_type": "stream",
     "text": [
      "Number of attribute-level self-preference feedback: 3908\n",
      "Number of attribute-level peer-assessment: 11099\n"
     ]
    }
   ],
   "source": [
    "# attribute number \n",
    "total = 0.0\n",
    "for (u, i), tdf in df_item.groupby(['user_id', \"movie_id\"]):\n",
    "    attrs = tdf.iloc[0]['self_attributes']\n",
    "    if type(attrs) == list and len(attrs) > 0:\n",
    "        total += len(tdf.iloc[0]['self_attributes'])\n",
    "print (\"Number of attribute-level self-preference feedback: {}\".format(int(total)))\n",
    "\n",
    "# Section 3.3 Participants and data statisitics: self-attribute feedback. \n",
    "total = 0.0\n",
    "for (p, u, i), tdf in df_item.groupby(['peer_id', 'user_id', \"movie_id\"]):\n",
    "    attrs = tdf.iloc[0]['peer_attributes']\n",
    "    if type(attrs) == list and len(attrs) > 0:\n",
    "        total += len(tdf.iloc[0]['peer_attributes'])\n",
    "print (\"Number of attribute-level peer-assessment: {}\".format(int(total)))"
   ]
  },
  {
   "cell_type": "markdown",
   "metadata": {},
   "source": [
    "# Inter-Assessor Agreement\n",
    "\n",
    "    requirments: krippendorff.py\n",
    "\n",
    "    S4.1 how assessors agree with each other"
   ]
  },
  {
   "cell_type": "code",
   "execution_count": 7,
   "metadata": {},
   "outputs": [
    {
     "name": "stdout",
     "output_type": "stream",
     "text": [
      "Krippendorff's alpha: 0.425\n"
     ]
    }
   ],
   "source": [
    "from krippendorff import *\n",
    "ui_idx = list(set([(u, i) for u, i in zip(df_item['user_id'], df_item['movie_id'])]))\n",
    "peer_labels = []\n",
    "\n",
    "for tp in set(df_item['peer_id']):\n",
    "    plabels = [np.nan for _ in ui_idx]\n",
    "    pitem = df_item[df_item['peer_id'] == tp]\n",
    "    for i, tr in pitem.iterrows():\n",
    "        u, i = tr['user_id'], tr['movie_id']\n",
    "        l = int(tr['peer_preference'])\n",
    "        plabels[ui_idx.index((u, i))] = l\n",
    "    peer_labels.append(plabels)\n",
    "    \n",
    "print(\"Krippendorff's alpha:\", round(alpha(peer_labels, level_of_measurement='ordinal'), 3))\n",
    "# Table 1: Krippendorff's alpha"
   ]
  },
  {
   "cell_type": "code",
   "execution_count": 9,
   "metadata": {},
   "outputs": [
    {
     "name": "stdout",
     "output_type": "stream",
     "text": [
      "67 206 Overlap (three): 0.32524271844660196\n",
      "87 186 Overlap (two): 0.46774193548387094\n"
     ]
    }
   ],
   "source": [
    "# 4.1 Comparison to literature and Summary (overlap)\n",
    "\n",
    "peer_labels = np.array(peer_labels)\n",
    "rel_intset = []\n",
    "rel_union = []\n",
    "for j in range(peer_labels.shape[1]):\n",
    "    ls = [1 if t <= 3 else 0 for t in peer_labels[:,j] if not pd.isnull(t)]\n",
    "    if len(ls) < 2:\n",
    "        print (\"Error\")\n",
    "    if sum(ls) > 0:\n",
    "        rel_union.append(j)\n",
    "    if sum(ls) == len(ls):\n",
    "        rel_intset.append(j)\n",
    "\n",
    "# three assessors\n",
    "# Comparison to the literature and summary\n",
    "print (len(rel_intset), len(rel_union), \"Overlap (three):\", len(rel_intset) / float(len(rel_union)))\n",
    "\n",
    "\n",
    "rel_intset = []\n",
    "rel_union = []\n",
    "for j in range(peer_labels.shape[1]):\n",
    "    ls = [1 if t <= 3 else 0 for t in peer_labels[:,j] if not pd.isnull(t)]\n",
    "    if len(ls) < 2:\n",
    "        print (\"Error\")\n",
    "    if len(ls) > 2:\n",
    "        ls = ls[:2]\n",
    "    if sum(ls) > 0:\n",
    "        rel_union.append(j)\n",
    "    if sum(ls) == len(ls):\n",
    "        rel_intset.append(j)\n",
    "\n",
    "# two assessors\n",
    "# Comparison to the literature and summary\n",
    "print (len(rel_intset), len(rel_union), \"Overlap (two):\", len(rel_intset) / float(len(rel_union)))"
   ]
  },
  {
   "cell_type": "markdown",
   "metadata": {},
   "source": [
    "## individual assessor\n",
    "\n",
    "    cohen's kappa, fleiss's kappa"
   ]
  },
  {
   "cell_type": "code",
   "execution_count": 10,
   "metadata": {},
   "outputs": [],
   "source": [
    "ui_idx = list(set([(u, i) for u, i in zip(df_item['user_id'], df_item['movie_id'])]))\n",
    "peer_labels = []\n",
    "for tp in set(df_item['peer_id']):\n",
    "    plabels = [np.nan for _ in ui_idx]\n",
    "    pitem = df_item[df_item['peer_id'] == tp]\n",
    "    for i, tr in pitem.iterrows():\n",
    "        u, i = tr['user_id'], tr['movie_id']\n",
    "        l = int(tr['peer_preference'])\n",
    "        plabels[ui_idx.index((u, i))] = l\n",
    "    peer_labels.append(plabels)\n",
    "    \n",
    "peer_lo_alpha = []\n",
    "for i in range(len(peer_labels)):\n",
    "    lo_peer_labels = [list(t) for t in peer_labels]\n",
    "    lo_peer_labels[i] = [np.nan for _ in range(len(lo_peer_labels[i]))]\n",
    "    peer_lo_alpha.append((i, alpha(lo_peer_labels, level_of_measurement='ordinal')))\n",
    "# pd.DataFrame.from_records(peer_lo_alpha, columns=['peer_id', 'alpha'])"
   ]
  },
  {
   "cell_type": "code",
   "execution_count": 11,
   "metadata": {},
   "outputs": [],
   "source": [
    "upper = np.mean([t[1] for t in peer_lo_alpha]) + 2 * np.std([t[1] for t in peer_lo_alpha])\n",
    "lower = np.mean([t[1] for t in peer_lo_alpha]) - 2 * np.std([t[1] for t in peer_lo_alpha])"
   ]
  },
  {
   "cell_type": "code",
   "execution_count": 12,
   "metadata": {},
   "outputs": [
    {
     "data": {
      "text/plain": [
       "(0.04270918723864786, -0.03657851200690193)"
      ]
     },
     "execution_count": 12,
     "metadata": {},
     "output_type": "execute_result"
    }
   ],
   "source": [
    "max([t[1] for t in peer_lo_alpha]) - 0.425, min([t[1] for t in peer_lo_alpha]) - 0.425"
   ]
  },
  {
   "cell_type": "code",
   "execution_count": 14,
   "metadata": {},
   "outputs": [
    {
     "data": {
      "image/png": "[encoded data removed]",
      "text/plain": [
       "<Figure size 576x324 with 1 Axes>"
      ]
     },
     "metadata": {
      "needs_background": "light"
     },
     "output_type": "display_data"
    }
   ],
   "source": [
    "red = sns.color_palette(\"Reds\")[-2]\n",
    "blue = sns.color_palette(\"Blues\")[-4]\n",
    "\n",
    "plt.figure(figsize=(8, 4.5))\n",
    "for x, y in zip(range(len(peer_lo_alpha)), [t[1] for t in peer_lo_alpha]):\n",
    "    # if x > 15:\n",
    "    #    break\n",
    "    if y > 0.425:\n",
    "        plt.bar([x], [y], color=blue, edgecolor=\"k\")\n",
    "        plt.text(x, y, round(y, 3), ha=\"center\", va=\"bottom\")\n",
    "    else:\n",
    "        plt.bar([x], [y], color=blue, edgecolor=\"k\")\n",
    "\n",
    "# plt.plot([-0.5, 11.5], [upper, upper], '--r', lw=1)\n",
    "# plt.plot([-0.5, 11.5], [lower, lower], '--r', lw=1)\n",
    "\n",
    "plt.fill_between([-0.5, 18.5], [upper, upper], [lower, lower], color=\"r\", alpha=0.2, zorder=3)\n",
    "plt.plot([-0.5, 18.5], [0.425, 0.425], '--r')\n",
    "plt.ylim(0.0, 0.53)\n",
    "plt.xticks(range(len(peer_lo_alpha)), [\"A{}\".format(str(t).zfill(2)) for t in range(1, len(peer_lo_alpha) + 1)])\n",
    "plt.ylabel(\"Leave-out Krippendorff's alpha\")\n",
    "plt.xlabel(\"Assessors\")\n",
    "plt.savefig(\"figures/assessor_alpha.pdf\", bbox_inches=\"tight\")"
   ]
  },
  {
   "cell_type": "markdown",
   "metadata": {},
   "source": [
    "## item-level"
   ]
  },
  {
   "cell_type": "code",
   "execution_count": 15,
   "metadata": {},
   "outputs": [
    {
     "name": "stdout",
     "output_type": "stream",
     "text": [
      "0.37637969094922735\n",
      "(0.4149828643210562, 5.048543481566629e-39)\n"
     ]
    }
   ],
   "source": [
    "from itertools import combinations\n",
    "def build_item_labels(df_item, key=\"peer_preference\", bfun=lambda t: t, labels=range(1, 6)):\n",
    "    item_labels = []\n",
    "    for (u, i), tdf in df_item.groupby(by=['user_id', 'movie_id']):\n",
    "        for v1, v2 in combinations([bfun(t) for t in tdf[key]], 2):\n",
    "            item_labels.append((v1, v2))\n",
    "    return item_labels\n",
    "\n",
    "item_labels = np.array(build_item_labels(df_item, bfun=lambda t: t))\n",
    "\n",
    "# Table 1: 5-scale percentage agreement. line-6\n",
    "print (sum(item_labels[:,0] == item_labels[:,1]) / float(len(item_labels)))\n",
    "# Table 1: pearson's r. line-8\n",
    "print (pearsonr(item_labels[:,0], item_labels[:,1]))"
   ]
  },
  {
   "cell_type": "code",
   "execution_count": 18,
   "metadata": {},
   "outputs": [
    {
     "name": "stdout",
     "output_type": "stream",
     "text": [
      "0.6777041942604857\n"
     ]
    }
   ],
   "source": [
    "from itertools import combinations\n",
    "def build_item_labels(df_item, key=\"peer_preference\", bfun=lambda t: t, labels=range(1, 6)):\n",
    "    item_labels = []\n",
    "    for (u, i), tdf in df_item.groupby(by=['user_id', 'movie_id']):\n",
    "        for v1, v2 in combinations([bfun(t) for t in tdf[key]], 2):\n",
    "            item_labels.append((v1, v2))\n",
    "    return item_labels\n",
    "\n",
    "item_labels = np.array(build_item_labels(df_item, bfun=lambda t: 1 if t > 3 else 0))\n",
    "\n",
    "# Table 1: 2-scale percentage agreement.\n",
    "print (sum(item_labels[:,0] == item_labels[:,1]) / float(len(item_labels)))"
   ]
  },
  {
   "cell_type": "markdown",
   "metadata": {},
   "source": [
    "## within-peer nomalized "
   ]
  },
  {
   "cell_type": "code",
   "execution_count": 19,
   "metadata": {},
   "outputs": [],
   "source": [
    "def build_normalizer(df_item, value=\"peer_preference\", key=\"peer_id\"):\n",
    "    ans = {}\n",
    "    for k, tdf in df_item.groupby(key):\n",
    "        ans[k] = {\n",
    "            \"mean\": np.mean(tdf[value]),\n",
    "            \"std\": np.std(tdf[value])\n",
    "        }\n",
    "    return ans\n",
    "peer_pref_stats = build_normalizer(df_item)\n",
    "\n",
    "def _norm(pid, v):\n",
    "    mean, std = peer_pref_stats[pid]['mean'], peer_pref_stats[pid]['std']\n",
    "    return (v - mean) / std\n",
    "\n",
    "df_item['peer_preference_norm'] = list(map(lambda t: _norm(t[0], t[1]), zip(df_item['peer_id'], df_item['peer_preference'])))"
   ]
  },
  {
   "cell_type": "code",
   "execution_count": 20,
   "metadata": {},
   "outputs": [
    {
     "name": "stdout",
     "output_type": "stream",
     "text": [
      "PCC (0.5029837925619483, 2.9080991097517277e-59)\n"
     ]
    }
   ],
   "source": [
    "item_labels = np.array(build_item_labels(df_item, key=\"peer_preference_norm\", bfun=lambda t: t))\n",
    "print (\"PCC\", pearsonr(item_labels[:,0], item_labels[:,1]))\n",
    "# Table 1: pearson's r (normalized pref.)"
   ]
  },
  {
   "cell_type": "markdown",
   "metadata": {},
   "source": [
    "## Pairwise comparison"
   ]
  },
  {
   "cell_type": "code",
   "execution_count": 31,
   "metadata": {},
   "outputs": [],
   "source": [
    "def build_item_pairs_within_user(df_item, key=\"user_id\", value=\"movie_id\"):\n",
    "    ans = []\n",
    "    for u, tdf in df_item.groupby(key):\n",
    "        for v1, v2 in combinations(set(tdf[value]), 2):\n",
    "            if random.random() > 0.5:\n",
    "                v1, v2 = v2, v1\n",
    "            ans.append((u, v1, v2))\n",
    "    return ans\n",
    "\n",
    "random.seed(2021)\n",
    "user_itempairs = build_item_pairs_within_user(df_item)"
   ]
  },
  {
   "cell_type": "code",
   "execution_count": 32,
   "metadata": {},
   "outputs": [],
   "source": [
    "peer_labels = []\n",
    "for tp in set(df_item['peer_id']):\n",
    "    plabels = [np.nan for _ in user_itempairs]\n",
    "    pitem = df_item[df_item['peer_id'] == tp]\n",
    "    p_ui_r = {}\n",
    "    for u, i, r in zip(pitem['user_id'], pitem['movie_id'], pitem['peer_preference']):\n",
    "        p_ui_r[(u, i)] = r\n",
    "    \n",
    "    plabels = []\n",
    "    for u, i1, i2 in user_itempairs:\n",
    "        if (u, i1) in p_ui_r and (u, i2) in p_ui_r:\n",
    "            r1, r2 = p_ui_r[(u, i1)], p_ui_r[(u, i2)]\n",
    "            plabels.append( 1 if  r1 < r2 else 2 if r1 == r2 else r1 > r2 )\n",
    "        else:\n",
    "            plabels.append(np.nan)\n",
    "    peer_labels.append(plabels)\n",
    "    \n",
    "# print(\"Krippendorff's alpha:\", round(alpha(peer_labels, level_of_measurement='ordinal'), 3))"
   ]
  },
  {
   "cell_type": "code",
   "execution_count": 33,
   "metadata": {},
   "outputs": [
    {
     "name": "stdout",
     "output_type": "stream",
     "text": [
      "#pairs: 2383\n",
      "0.5933697020562316 2383\n",
      "#pairs: 2383\n",
      "0.6664641555285541 1646\n"
     ]
    }
   ],
   "source": [
    "peer_labels = np.array(peer_labels)\n",
    "print (\"#pairs:\", peer_labels.shape[1])\n",
    "corr_cnt, all_cnt = 0, 0\n",
    "for j in range(peer_labels.shape[1]):\n",
    "    vs = [t for t in peer_labels[:,j] if not pd.isnull(t)]\n",
    "    if len(vs) >= 2:\n",
    "        if (vs[0] == vs[1]):\n",
    "            corr_cnt += 1\n",
    "        all_cnt += 1\n",
    "\n",
    "# Table 1: concordance\n",
    "print (corr_cnt / float(all_cnt), all_cnt)\n",
    "\n",
    "peer_labels = np.array(peer_labels)\n",
    "print (\"#pairs:\", peer_labels.shape[1])\n",
    "corr_cnt, all_cnt = 0, 0\n",
    "for j in range(peer_labels.shape[1]):\n",
    "    vs = [t for t in peer_labels[:,j] if not pd.isnull(t)]\n",
    "    if len(vs) >= 2:\n",
    "        if vs[0] != 2:\n",
    "            if (vs[0] == vs[1]):\n",
    "                corr_cnt += 1\n",
    "            all_cnt += 1\n",
    "# Table 1: concordance (filter equal cases)\n",
    "print (corr_cnt / float(all_cnt), all_cnt)"
   ]
  },
  {
   "cell_type": "code",
   "execution_count": null,
   "metadata": {},
   "outputs": [],
   "source": []
  }
 ],
 "metadata": {
  "kernelspec": {
   "display_name": "Python 3",
   "language": "python",
   "name": "python3"
  },
  "language_info": {
   "codemirror_mode": {
    "name": "ipython",
    "version": 3
   },
   "file_extension": ".py",
   "mimetype": "text/x-python",
   "name": "python",
   "nbconvert_exporter": "python",
   "pygments_lexer": "ipython3",
   "version": "3.7.3"
  }
 },
 "nbformat": 4,
 "nbformat_minor": 2
}
